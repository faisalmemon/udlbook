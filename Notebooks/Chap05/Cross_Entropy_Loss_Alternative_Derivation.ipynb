{
 "cells": [
  {
   "cell_type": "markdown",
   "metadata": {},
   "source": [
    "# Cross Entropy Loss Alternative Derivation"
   ]
  },
  {
   "cell_type": "markdown",
   "metadata": {},
   "source": [
    "Dirac's delta function says \n",
    "\\begin{align*}\n",
    "\\int_{-\\infty}^{+\\infty} f(y)\\delta[y-y_0]dy &= f(y_0) \\\\\n",
    "\\Rightarrow \\sum_{i=0}^I \\int_{-\\infty}^{+\\infty} f(y)\\delta[y-y_i]dy &= \\sum_{i=0}^I f(y_i) \\\\\n",
    "Using \\quad f &= log(Pr(y | \\theta)) \\\\\n",
    "\\Rightarrow \\sum_{i=0}^I \\int_{-\\infty}^{+\\infty} log(Pr(y | \\theta))\\delta[y-y_i]dy &= \\sum_{i=0}^I log(Pr(y_i | \\theta)) \\\\\n",
    "\\end{align*}"
   ]
  },
  {
   "cell_type": "markdown",
   "metadata": {},
   "source": [
    "This means that we can find\n",
    "\\begin{align*}\n",
    "\\boldsymbol{\\hat{\\theta}} &= \\underset{\\boldsymbol{\\theta}}{argmin}\\left[-\\int_{-\\infty}^{\\infty}(1/I \\sum_{i=1}^{I}\\delta[y - y_i])\\right]\n",
    "\\end{align*}"
   ]
  },
  {
   "cell_type": "code",
   "execution_count": null,
   "metadata": {},
   "outputs": [],
   "source": []
  }
 ],
 "metadata": {
  "language_info": {
   "name": "python"
  }
 },
 "nbformat": 4,
 "nbformat_minor": 2
}
