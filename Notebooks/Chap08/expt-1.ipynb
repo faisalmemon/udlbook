{
 "cells": [
  {
   "cell_type": "code",
   "execution_count": 3,
   "metadata": {},
   "outputs": [
    {
     "name": "stdout",
     "output_type": "stream",
     "text": [
      "Greater than 2\n"
     ]
    }
   ],
   "source": [
    "# Simple notebook\n",
    "\n",
    "a = 10\n",
    "if a < 2:\n",
    "    print(\"Smaller than 2\")\n",
    "else:\n",
    "    print(\"Greater than 2\")"
   ]
  }
 ],
 "metadata": {
  "kernelspec": {
   "display_name": "base",
   "language": "python",
   "name": "python3"
  },
  "language_info": {
   "codemirror_mode": {
    "name": "ipython",
    "version": 3
   },
   "file_extension": ".py",
   "mimetype": "text/x-python",
   "name": "python",
   "nbconvert_exporter": "python",
   "pygments_lexer": "ipython3",
   "version": "3.11.9"
  }
 },
 "nbformat": 4,
 "nbformat_minor": 2
}
