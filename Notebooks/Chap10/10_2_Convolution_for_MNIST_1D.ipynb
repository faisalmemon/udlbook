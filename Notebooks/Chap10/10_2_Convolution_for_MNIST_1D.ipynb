{
  "cells": [
    {
      "cell_type": "markdown",
      "metadata": {
        "colab_type": "text",
        "id": "view-in-github"
      },
      "source": [
        "<a href=\"https://colab.research.google.com/github/udlbook/udlbook/blob/main/Notebooks/Chap10/10_2_Convolution_for_MNIST_1D.ipynb\" target=\"_parent\"><img src=\"https://colab.research.google.com/assets/colab-badge.svg\" alt=\"Open In Colab\"/></a>"
      ]
    },
    {
      "cell_type": "markdown",
      "metadata": {
        "id": "t9vk9Elugvmi"
      },
      "source": [
        "# **Notebook 10.2: Convolution for MNIST-1D**\n",
        "\n",
        "This notebook investigates a 1D convolutional network for MNIST-1D as in figure 10.7 and 10.8a.\n",
        "\n",
        "Work through the cells below, running each cell in turn. In various places you will see the words \"TO DO\". Follow the instructions at these places and make predictions about what is going to happen or write code to complete the functions.\n",
        "\n",
        "Contact me at udlbookmail@gmail.com if you find any mistakes or have any suggestions.\n",
        "\n"
      ]
    },
    {
      "cell_type": "code",
      "execution_count": 1,
      "metadata": {
        "id": "D5yLObtZCi9J"
      },
      "outputs": [
        {
          "name": "stdout",
          "output_type": "stream",
          "text": [
            "Cloning into 'mnist1d'...\n",
            "remote: Enumerating objects: 529, done.\u001b[K\n",
            "remote: Counting objects: 100% (148/148), done.\u001b[K\n",
            "remote: Compressing objects: 100% (80/80), done.\u001b[K\n",
            "remote: Total 529 (delta 93), reused 104 (delta 66), pack-reused 381 (from 1)\u001b[K\n",
            "Receiving objects: 100% (529/529), 14.92 MiB | 15.02 MiB/s, done.\n",
            "Resolving deltas: 100% (246/246), done.\n"
          ]
        }
      ],
      "source": [
        "# Run this if you're in a Colab to make a local copy of the MNIST 1D repository\n",
        "!git clone https://github.com/greydanus/mnist1d"
      ]
    },
    {
      "cell_type": "code",
      "execution_count": 2,
      "metadata": {
        "id": "YrXWAH7sUWvU"
      },
      "outputs": [],
      "source": [
        "import numpy as np\n",
        "import os\n",
        "import torch, torch.nn as nn\n",
        "from torch.utils.data import TensorDataset, DataLoader\n",
        "from torch.optim.lr_scheduler import StepLR\n",
        "import matplotlib.pyplot as plt\n",
        "import mnist1d\n",
        "import random"
      ]
    },
    {
      "cell_type": "code",
      "execution_count": 3,
      "metadata": {
        "id": "twI72ZCrCt5z"
      },
      "outputs": [
        {
          "name": "stdout",
          "output_type": "stream",
          "text": [
            "Did or could not load data from ./mnist1d_data.pkl. Rebuilding dataset...\n",
            "Examples in training set: 4000\n",
            "Examples in test set: 1000\n",
            "Length of each example: 40\n"
          ]
        }
      ],
      "source": [
        "args = mnist1d.data.get_dataset_args()\n",
        "data = mnist1d.data.get_dataset(args, path='./mnist1d_data.pkl', download=False, regenerate=False)\n",
        "\n",
        "# The training and test input and outputs are in\n",
        "# data['x'], data['y'], data['x_test'], and data['y_test']\n",
        "print(\"Examples in training set: {}\".format(len(data['y'])))\n",
        "print(\"Examples in test set: {}\".format(len(data['y_test'])))\n",
        "print(\"Length of each example: {}\".format(data['x'].shape[-1]))"
      ]
    },
    {
      "cell_type": "code",
      "execution_count": 4,
      "metadata": {
        "id": "8bKADvLHbiV5"
      },
      "outputs": [
        {
          "name": "stdout",
          "output_type": "stream",
          "text": [
            "Train data: 4000 examples (columns), each of which has 40 dimensions (rows)\n",
            "Validation data: 1000 examples (columns), each of which has 40 dimensions (rows)\n"
          ]
        }
      ],
      "source": [
        "# Load in the data\n",
        "train_data_x = data['x'].transpose()\n",
        "train_data_y = data['y']\n",
        "val_data_x = data['x_test'].transpose()\n",
        "val_data_y = data['y_test']\n",
        "# Print out sizes\n",
        "print(\"Train data: %d examples (columns), each of which has %d dimensions (rows)\"%((train_data_x.shape[1],train_data_x.shape[0])))\n",
        "print(\"Validation data: %d examples (columns), each of which has %d dimensions (rows)\"%((val_data_x.shape[1],val_data_x.shape[0])))"
      ]
    },
    {
      "cell_type": "markdown",
      "metadata": {
        "id": "_sFvRDGrl4qe"
      },
      "source": [
        "Define the network"
      ]
    },
    {
      "cell_type": "code",
      "execution_count": 29,
      "metadata": {},
      "outputs": [
        {
          "data": {
            "text/plain": [
              "torch.Size([100, 60])"
            ]
          },
          "execution_count": 29,
          "metadata": {},
          "output_type": "execute_result"
        }
      ],
      "source": [
        "tinput = torch.randn(100, 4, 15)\n",
        "tm = nn.Flatten(start_dim=1, end_dim=-1)\n",
        "toutput = tm(tinput)\n",
        "toutput.size()"
      ]
    },
    {
      "cell_type": "code",
      "execution_count": null,
      "metadata": {},
      "outputs": [],
      "source": []
    },
    {
      "cell_type": "code",
      "execution_count": null,
      "metadata": {},
      "outputs": [],
      "source": []
    },
    {
      "cell_type": "code",
      "execution_count": 24,
      "metadata": {
        "id": "FslroPJJffrh"
      },
      "outputs": [],
      "source": [
        "# There are 40 input dimensions and 10 output dimensions for this data\n",
        "# The inputs correspond to the 40 offsets in the MNIST1D template.\n",
        "D_i = 40\n",
        "# The outputs correspond to the 10 digits\n",
        "D_o = 10\n",
        "\n",
        "\n",
        "# Create a model with the following layers\n",
        "# 1. Convolutional layer, (input=length 40 and 1 channel, kernel size 3, stride 2, padding=\"valid\", 15 output channels )\n",
        "# 2. ReLU\n",
        "# 3. Convolutional layer, (input=length 19 and 15 channels, kernel size 3, stride 2, padding=\"valid\", 15 output channels )\n",
        "# 4. ReLU\n",
        "# 5. Convolutional layer, (input=length 9 and 15 channels, kernel size 3, stride 2, padding=\"valid\", 15 output channels)\n",
        "# 6. ReLU\n",
        "# 7. Flatten (converts 4x15) to length 60\n",
        "# 8. Linear layer (input size = 60, output size = 10)\n",
        "# References:\n",
        "# https://pytorch.org/docs/1.13/generated/torch.nn.Conv1d.html?highlight=conv1d#torch.nn.Conv1d\n",
        "# https://pytorch.org/docs/stable/generated/torch.nn.Flatten.html\n",
        "# https://pytorch.org/docs/1.13/generated/torch.nn.Linear.html?highlight=linear#torch.nn.Linear\n",
        "\n",
        "# NOTE THAT THE CONVOLUTIONAL LAYERS NEED TO TAKE THE NUMBER OF INPUT CHANNELS AS A PARAMETER\n",
        "# AND NOT THE INPUT SIZE.\n",
        "\n",
        "model = nn.Sequential(\n",
        "    nn.Conv1d(in_channels=1, out_channels=15, kernel_size=3, stride=2, padding_mode=\"zeros\"),\n",
        "    nn.ReLU(),\n",
        "    nn.Conv1d(in_channels=15, out_channels=15, kernel_size=3, stride=2, padding_mode=\"zeros\"),\n",
        "    nn.ReLU(),\n",
        "    nn.Conv1d(in_channels=15, out_channels=15, kernel_size=3, stride=2, padding_mode=\"zeros\"),\n",
        "    nn.ReLU(),\n",
        "    nn.Flatten(start_dim=1, end_dim=-1),\n",
        "    nn.Linear(60, 10)\n",
        ")"
      ]
    },
    {
      "cell_type": "code",
      "execution_count": 25,
      "metadata": {
        "id": "YgLaex1pfhqz"
      },
      "outputs": [],
      "source": [
        "# He initialization of weights\n",
        "def weights_init(layer_in):\n",
        "  if isinstance(layer_in, nn.Linear):\n",
        "    nn.init.kaiming_uniform_(layer_in.weight)\n",
        "    layer_in.bias.data.fill_(0.0)"
      ]
    },
    {
      "cell_type": "code",
      "execution_count": 26,
      "metadata": {
        "id": "NYw8I_3mmX5c"
      },
      "outputs": [
        {
          "name": "stdout",
          "output_type": "stream",
          "text": [
            "Epoch     0, train loss 1.957769, train error 77.43,  val loss 1.971905, percent error 79.00\n",
            "Epoch     1, train loss 1.484639, train error 60.25,  val loss 1.519884, percent error 63.50\n",
            "Epoch     2, train loss 1.279742, train error 52.62,  val loss 1.312417, percent error 56.80\n",
            "Epoch     3, train loss 1.293882, train error 53.88,  val loss 1.292338, percent error 54.30\n",
            "Epoch     4, train loss 1.160386, train error 47.25,  val loss 1.194828, percent error 49.70\n",
            "Epoch     5, train loss 1.107558, train error 46.15,  val loss 1.129479, percent error 48.80\n",
            "Epoch     6, train loss 1.110315, train error 46.03,  val loss 1.153369, percent error 49.20\n",
            "Epoch     7, train loss 1.008396, train error 42.03,  val loss 1.052163, percent error 45.50\n",
            "Epoch     8, train loss 0.899516, train error 36.62,  val loss 0.938486, percent error 36.50\n",
            "Epoch     9, train loss 0.862022, train error 34.57,  val loss 0.924568, percent error 35.30\n",
            "Epoch    10, train loss 0.705662, train error 28.10,  val loss 0.777795, percent error 32.30\n",
            "Epoch    11, train loss 0.640383, train error 24.35,  val loss 0.709302, percent error 27.50\n",
            "Epoch    12, train loss 0.532008, train error 19.65,  val loss 0.615587, percent error 23.70\n",
            "Epoch    13, train loss 0.472687, train error 18.55,  val loss 0.571482, percent error 22.80\n",
            "Epoch    14, train loss 0.464669, train error 18.43,  val loss 0.557916, percent error 21.60\n",
            "Epoch    15, train loss 0.340898, train error 12.25,  val loss 0.427301, percent error 15.10\n",
            "Epoch    16, train loss 0.297345, train error 10.70,  val loss 0.397822, percent error 13.40\n",
            "Epoch    17, train loss 0.282790, train error 9.82,  val loss 0.373273, percent error 12.30\n",
            "Epoch    18, train loss 0.271587, train error 9.32,  val loss 0.389381, percent error 13.10\n",
            "Epoch    19, train loss 0.342898, train error 12.05,  val loss 0.476158, percent error 17.00\n",
            "Epoch    20, train loss 0.178583, train error 5.60,  val loss 0.319853, percent error 10.30\n",
            "Epoch    21, train loss 0.167306, train error 5.25,  val loss 0.314973, percent error 10.90\n",
            "Epoch    22, train loss 0.148822, train error 4.70,  val loss 0.301836, percent error 10.60\n",
            "Epoch    23, train loss 0.168120, train error 5.68,  val loss 0.335545, percent error 10.60\n",
            "Epoch    24, train loss 0.137634, train error 4.20,  val loss 0.308503, percent error 10.20\n",
            "Epoch    25, train loss 0.144547, train error 4.68,  val loss 0.320410, percent error 11.60\n",
            "Epoch    26, train loss 0.134078, train error 4.38,  val loss 0.302920, percent error 9.40\n",
            "Epoch    27, train loss 0.124532, train error 3.75,  val loss 0.303036, percent error 10.00\n",
            "Epoch    28, train loss 0.130663, train error 4.15,  val loss 0.325194, percent error 10.30\n",
            "Epoch    29, train loss 0.117290, train error 3.70,  val loss 0.319936, percent error 10.10\n",
            "Epoch    30, train loss 0.099675, train error 2.75,  val loss 0.293785, percent error 9.50\n",
            "Epoch    31, train loss 0.096640, train error 2.65,  val loss 0.294971, percent error 9.60\n",
            "Epoch    32, train loss 0.141051, train error 5.10,  val loss 0.349340, percent error 10.10\n",
            "Epoch    33, train loss 0.109596, train error 3.32,  val loss 0.320866, percent error 10.70\n",
            "Epoch    34, train loss 0.092016, train error 2.55,  val loss 0.303025, percent error 9.00\n",
            "Epoch    35, train loss 0.087230, train error 2.53,  val loss 0.319520, percent error 9.30\n",
            "Epoch    36, train loss 0.083682, train error 2.40,  val loss 0.287273, percent error 8.50\n",
            "Epoch    37, train loss 0.079091, train error 2.28,  val loss 0.303949, percent error 9.20\n",
            "Epoch    38, train loss 0.079946, train error 2.55,  val loss 0.305236, percent error 9.30\n",
            "Epoch    39, train loss 0.083200, train error 2.90,  val loss 0.325719, percent error 10.10\n",
            "Epoch    40, train loss 0.060854, train error 1.47,  val loss 0.302548, percent error 9.00\n",
            "Epoch    41, train loss 0.058673, train error 1.45,  val loss 0.304884, percent error 9.30\n",
            "Epoch    42, train loss 0.058028, train error 1.55,  val loss 0.305550, percent error 8.90\n",
            "Epoch    43, train loss 0.059584, train error 1.47,  val loss 0.318732, percent error 9.60\n",
            "Epoch    44, train loss 0.056372, train error 1.32,  val loss 0.314741, percent error 9.50\n",
            "Epoch    45, train loss 0.053470, train error 1.35,  val loss 0.315770, percent error 9.60\n",
            "Epoch    46, train loss 0.052663, train error 1.05,  val loss 0.316179, percent error 9.60\n",
            "Epoch    47, train loss 0.053832, train error 1.35,  val loss 0.317705, percent error 8.80\n",
            "Epoch    48, train loss 0.049236, train error 1.20,  val loss 0.305981, percent error 9.10\n",
            "Epoch    49, train loss 0.054801, train error 1.25,  val loss 0.323818, percent error 9.00\n",
            "Epoch    50, train loss 0.057315, train error 1.75,  val loss 0.338181, percent error 9.20\n",
            "Epoch    51, train loss 0.055059, train error 1.53,  val loss 0.325581, percent error 8.70\n",
            "Epoch    52, train loss 0.045716, train error 0.97,  val loss 0.324578, percent error 9.10\n",
            "Epoch    53, train loss 0.045625, train error 1.00,  val loss 0.325130, percent error 9.30\n",
            "Epoch    54, train loss 0.054608, train error 1.38,  val loss 0.335100, percent error 8.60\n",
            "Epoch    55, train loss 0.044224, train error 0.90,  val loss 0.324581, percent error 8.70\n",
            "Epoch    56, train loss 0.042266, train error 1.00,  val loss 0.330523, percent error 9.30\n",
            "Epoch    57, train loss 0.042153, train error 0.97,  val loss 0.340112, percent error 9.70\n",
            "Epoch    58, train loss 0.039081, train error 0.82,  val loss 0.330612, percent error 9.10\n",
            "Epoch    59, train loss 0.038236, train error 0.80,  val loss 0.323856, percent error 8.80\n",
            "Epoch    60, train loss 0.036546, train error 0.72,  val loss 0.333390, percent error 9.00\n",
            "Epoch    61, train loss 0.036222, train error 0.65,  val loss 0.334675, percent error 9.10\n",
            "Epoch    62, train loss 0.036578, train error 0.65,  val loss 0.329881, percent error 9.10\n",
            "Epoch    63, train loss 0.034947, train error 0.70,  val loss 0.333037, percent error 8.70\n",
            "Epoch    64, train loss 0.038419, train error 0.88,  val loss 0.336579, percent error 8.70\n",
            "Epoch    65, train loss 0.034941, train error 0.62,  val loss 0.338273, percent error 9.10\n",
            "Epoch    66, train loss 0.033544, train error 0.55,  val loss 0.336796, percent error 8.80\n",
            "Epoch    67, train loss 0.033787, train error 0.60,  val loss 0.341552, percent error 9.10\n",
            "Epoch    68, train loss 0.034143, train error 0.62,  val loss 0.342947, percent error 8.80\n",
            "Epoch    69, train loss 0.033490, train error 0.55,  val loss 0.339190, percent error 8.80\n",
            "Epoch    70, train loss 0.032115, train error 0.50,  val loss 0.342466, percent error 8.70\n",
            "Epoch    71, train loss 0.031863, train error 0.47,  val loss 0.341648, percent error 9.00\n",
            "Epoch    72, train loss 0.032652, train error 0.60,  val loss 0.350801, percent error 8.90\n",
            "Epoch    73, train loss 0.032083, train error 0.53,  val loss 0.345501, percent error 9.00\n",
            "Epoch    74, train loss 0.031322, train error 0.53,  val loss 0.344360, percent error 9.10\n",
            "Epoch    75, train loss 0.031254, train error 0.55,  val loss 0.346855, percent error 8.80\n",
            "Epoch    76, train loss 0.030870, train error 0.45,  val loss 0.351841, percent error 9.20\n",
            "Epoch    77, train loss 0.032168, train error 0.62,  val loss 0.355652, percent error 9.10\n",
            "Epoch    78, train loss 0.030736, train error 0.45,  val loss 0.347154, percent error 9.30\n",
            "Epoch    79, train loss 0.029809, train error 0.43,  val loss 0.350798, percent error 8.90\n",
            "Epoch    80, train loss 0.028843, train error 0.45,  val loss 0.350516, percent error 8.80\n",
            "Epoch    81, train loss 0.029125, train error 0.45,  val loss 0.352516, percent error 8.90\n",
            "Epoch    82, train loss 0.029919, train error 0.55,  val loss 0.355844, percent error 8.50\n",
            "Epoch    83, train loss 0.028588, train error 0.45,  val loss 0.352569, percent error 8.60\n",
            "Epoch    84, train loss 0.028298, train error 0.40,  val loss 0.352674, percent error 8.80\n",
            "Epoch    85, train loss 0.028536, train error 0.38,  val loss 0.353569, percent error 8.90\n",
            "Epoch    86, train loss 0.028474, train error 0.43,  val loss 0.357483, percent error 8.90\n",
            "Epoch    87, train loss 0.027934, train error 0.35,  val loss 0.354565, percent error 8.60\n",
            "Epoch    88, train loss 0.027728, train error 0.38,  val loss 0.357334, percent error 8.90\n",
            "Epoch    89, train loss 0.027511, train error 0.43,  val loss 0.356606, percent error 8.80\n",
            "Epoch    90, train loss 0.027504, train error 0.40,  val loss 0.356046, percent error 8.80\n",
            "Epoch    91, train loss 0.027285, train error 0.43,  val loss 0.356083, percent error 8.60\n",
            "Epoch    92, train loss 0.027049, train error 0.30,  val loss 0.358373, percent error 8.80\n",
            "Epoch    93, train loss 0.026957, train error 0.38,  val loss 0.357987, percent error 8.70\n",
            "Epoch    94, train loss 0.026742, train error 0.38,  val loss 0.358256, percent error 8.80\n",
            "Epoch    95, train loss 0.026671, train error 0.35,  val loss 0.358929, percent error 8.80\n",
            "Epoch    96, train loss 0.026731, train error 0.40,  val loss 0.359301, percent error 8.80\n",
            "Epoch    97, train loss 0.027133, train error 0.32,  val loss 0.361550, percent error 8.70\n",
            "Epoch    98, train loss 0.026224, train error 0.38,  val loss 0.359678, percent error 8.90\n",
            "Epoch    99, train loss 0.026065, train error 0.32,  val loss 0.361180, percent error 8.60\n"
          ]
        },
        {
          "data": {
            "image/png": "[encoded data removed]",
            "text/plain": [
              "<Figure size 640x480 with 1 Axes>"
            ]
          },
          "metadata": {},
          "output_type": "display_data"
        }
      ],
      "source": [
        "# choose cross entropy loss function (equation 5.24 in the loss notes)\n",
        "loss_function = nn.CrossEntropyLoss()\n",
        "# construct SGD optimizer and initialize learning rate and momentum\n",
        "optimizer = torch.optim.SGD(model.parameters(), lr = 0.05, momentum=0.9)\n",
        "# object that decreases learning rate by half every 20 epochs\n",
        "scheduler = StepLR(optimizer, step_size=20, gamma=0.5)\n",
        "# create 100 dummy data points and store in data loader class\n",
        "x_train = torch.tensor(train_data_x.transpose().astype('float32'))\n",
        "y_train = torch.tensor(train_data_y.astype('long')).long()\n",
        "x_val= torch.tensor(val_data_x.transpose().astype('float32'))\n",
        "y_val = torch.tensor(val_data_y.astype('long')).long()\n",
        "\n",
        "# load the data into a class that creates the batches\n",
        "data_loader = DataLoader(TensorDataset(x_train,y_train), batch_size=100, shuffle=True, worker_init_fn=np.random.seed(1))\n",
        "\n",
        "# Initialize model weights\n",
        "model.apply(weights_init)\n",
        "\n",
        "# loop over the dataset n_epoch times\n",
        "n_epoch = 100\n",
        "# store the loss and the % correct at each epoch\n",
        "losses_train = np.zeros((n_epoch))\n",
        "errors_train = np.zeros((n_epoch))\n",
        "losses_val = np.zeros((n_epoch))\n",
        "errors_val = np.zeros((n_epoch))\n",
        "\n",
        "for epoch in range(n_epoch):\n",
        "  # loop over batches\n",
        "  for i, data in enumerate(data_loader):\n",
        "    # retrieve inputs and labels for this batch\n",
        "    x_batch, y_batch = data\n",
        "    # zero the parameter gradients\n",
        "    optimizer.zero_grad()\n",
        "    # forward pass -- calculate model output\n",
        "    pred = model(x_batch[:,None,:])\n",
        "    # compute the loss\n",
        "    loss = loss_function(pred, y_batch)\n",
        "    # backward pass\n",
        "    loss.backward()\n",
        "    # SGD update\n",
        "    optimizer.step()\n",
        "\n",
        "  # Run whole dataset to get statistics -- normally wouldn't do this\n",
        "  pred_train = model(x_train[:,None,:])\n",
        "  pred_val = model(x_val[:,None,:])\n",
        "  _, predicted_train_class = torch.max(pred_train.data, 1)\n",
        "  _, predicted_val_class = torch.max(pred_val.data, 1)\n",
        "  errors_train[epoch] = 100 - 100 * (predicted_train_class == y_train).float().sum() / len(y_train)\n",
        "  errors_val[epoch]= 100 - 100 * (predicted_val_class == y_val).float().sum() / len(y_val)\n",
        "  losses_train[epoch] = loss_function(pred_train, y_train).item()\n",
        "  losses_val[epoch]= loss_function(pred_val, y_val).item()\n",
        "  print(f'Epoch {epoch:5d}, train loss {losses_train[epoch]:.6f}, train error {errors_train[epoch]:3.2f},  val loss {losses_val[epoch]:.6f}, percent error {errors_val[epoch]:3.2f}')\n",
        "\n",
        "  # tell scheduler to consider updating learning rate\n",
        "  scheduler.step()\n",
        "\n",
        "# Plot the results\n",
        "fig, ax = plt.subplots()\n",
        "ax.plot(errors_train,'r-',label='train')\n",
        "ax.plot(errors_val,'b-',label='validation')\n",
        "ax.set_ylim(0,100); ax.set_xlim(0,n_epoch)\n",
        "ax.set_xlabel('Epoch'); ax.set_ylabel('Error')\n",
        "ax.set_title('Part I: Validation Result %3.2f'%(errors_val[-1]))\n",
        "ax.legend()\n",
        "plt.show()"
      ]
    }
  ],
  "metadata": {
    "colab": {
      "authorship_tag": "ABX9TyNJodaaCLMRWL9vTl8B/iLI",
      "include_colab_link": true,
      "provenance": []
    },
    "kernelspec": {
      "display_name": "Python 3",
      "name": "python3"
    },
    "language_info": {
      "codemirror_mode": {
        "name": "ipython",
        "version": 3
      },
      "file_extension": ".py",
      "mimetype": "text/x-python",
      "name": "python",
      "nbconvert_exporter": "python",
      "pygments_lexer": "ipython3",
      "version": "3.11.7"
    }
  },
  "nbformat": 4,
  "nbformat_minor": 0
}
