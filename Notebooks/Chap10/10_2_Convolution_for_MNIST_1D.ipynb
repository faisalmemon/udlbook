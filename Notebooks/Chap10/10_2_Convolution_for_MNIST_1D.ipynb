{
  "cells": [
    {
      "cell_type": "markdown",
      "metadata": {
        "colab_type": "text",
        "id": "view-in-github"
      },
      "source": [
        "<a href=\"https://colab.research.google.com/github/udlbook/udlbook/blob/main/Notebooks/Chap10/10_2_Convolution_for_MNIST_1D.ipynb\" target=\"_parent\"><img src=\"https://colab.research.google.com/assets/colab-badge.svg\" alt=\"Open In Colab\"/></a>"
      ]
    },
    {
      "cell_type": "markdown",
      "metadata": {
        "id": "t9vk9Elugvmi"
      },
      "source": [
        "# **Notebook 10.2: Convolution for MNIST-1D**\n",
        "\n",
        "This notebook investigates a 1D convolutional network for MNIST-1D as in figure 10.7 and 10.8a.\n",
        "\n",
        "Work through the cells below, running each cell in turn. In various places you will see the words \"TO DO\". Follow the instructions at these places and make predictions about what is going to happen or write code to complete the functions.\n",
        "\n",
        "Contact me at udlbookmail@gmail.com if you find any mistakes or have any suggestions.\n",
        "\n"
      ]
    },
    {
      "cell_type": "code",
      "execution_count": 30,
      "metadata": {
        "id": "D5yLObtZCi9J"
      },
      "outputs": [
        {
          "name": "stdout",
          "output_type": "stream",
          "text": [
            "fatal: destination path 'mnist1d' already exists and is not an empty directory.\n"
          ]
        }
      ],
      "source": [
        "# Run this if you're in a Colab to make a local copy of the MNIST 1D repository\n",
        "!git clone https://github.com/greydanus/mnist1d"
      ]
    },
    {
      "cell_type": "code",
      "execution_count": 31,
      "metadata": {
        "id": "YrXWAH7sUWvU"
      },
      "outputs": [],
      "source": [
        "import numpy as np\n",
        "import os\n",
        "import torch, torch.nn as nn\n",
        "from torch.utils.data import TensorDataset, DataLoader\n",
        "from torch.optim.lr_scheduler import StepLR\n",
        "import matplotlib.pyplot as plt\n",
        "import mnist1d\n",
        "import random"
      ]
    },
    {
      "cell_type": "code",
      "execution_count": 32,
      "metadata": {
        "id": "twI72ZCrCt5z"
      },
      "outputs": [
        {
          "name": "stdout",
          "output_type": "stream",
          "text": [
            "Successfully loaded data from ./mnist1d_data.pkl\n",
            "Examples in training set: 4000\n",
            "Examples in test set: 1000\n",
            "Length of each example: 40\n"
          ]
        }
      ],
      "source": [
        "args = mnist1d.data.get_dataset_args()\n",
        "data = mnist1d.data.get_dataset(args, path='./mnist1d_data.pkl', download=False, regenerate=False)\n",
        "\n",
        "# The training and test input and outputs are in\n",
        "# data['x'], data['y'], data['x_test'], and data['y_test']\n",
        "print(\"Examples in training set: {}\".format(len(data['y'])))\n",
        "print(\"Examples in test set: {}\".format(len(data['y_test'])))\n",
        "print(\"Length of each example: {}\".format(data['x'].shape[-1]))"
      ]
    },
    {
      "cell_type": "code",
      "execution_count": 33,
      "metadata": {
        "id": "8bKADvLHbiV5"
      },
      "outputs": [
        {
          "name": "stdout",
          "output_type": "stream",
          "text": [
            "Train data: 4000 examples (columns), each of which has 40 dimensions (rows)\n",
            "Validation data: 1000 examples (columns), each of which has 40 dimensions (rows)\n"
          ]
        }
      ],
      "source": [
        "# Load in the data\n",
        "train_data_x = data['x'].transpose()\n",
        "train_data_y = data['y']\n",
        "val_data_x = data['x_test'].transpose()\n",
        "val_data_y = data['y_test']\n",
        "# Print out sizes\n",
        "print(\"Train data: %d examples (columns), each of which has %d dimensions (rows)\"%((train_data_x.shape[1],train_data_x.shape[0])))\n",
        "print(\"Validation data: %d examples (columns), each of which has %d dimensions (rows)\"%((val_data_x.shape[1],val_data_x.shape[0])))"
      ]
    },
    {
      "cell_type": "markdown",
      "metadata": {
        "id": "_sFvRDGrl4qe"
      },
      "source": [
        "Define the network"
      ]
    },
    {
      "cell_type": "code",
      "execution_count": 34,
      "metadata": {},
      "outputs": [
        {
          "data": {
            "text/plain": [
              "torch.Size([100, 60])"
            ]
          },
          "execution_count": 34,
          "metadata": {},
          "output_type": "execute_result"
        }
      ],
      "source": [
        "tinput = torch.randn(100, 4, 15)\n",
        "tm = nn.Flatten(start_dim=1, end_dim=-1)\n",
        "toutput = tm(tinput)\n",
        "toutput.size()"
      ]
    },
    {
      "cell_type": "code",
      "execution_count": null,
      "metadata": {},
      "outputs": [],
      "source": []
    },
    {
      "cell_type": "code",
      "execution_count": null,
      "metadata": {},
      "outputs": [],
      "source": []
    },
    {
      "cell_type": "code",
      "execution_count": 35,
      "metadata": {
        "id": "FslroPJJffrh"
      },
      "outputs": [],
      "source": [
        "# There are 40 input dimensions and 10 output dimensions for this data\n",
        "# The inputs correspond to the 40 offsets in the MNIST1D template.\n",
        "D_i = 40\n",
        "# The outputs correspond to the 10 digits\n",
        "D_o = 10\n",
        "\n",
        "\n",
        "# Create a model with the following layers\n",
        "# 1. Convolutional layer, (input=length 40 and 1 channel, kernel size 3, stride 2, padding=\"valid\", 15 output channels )\n",
        "# 2. ReLU\n",
        "# 3. Convolutional layer, (input=length 19 and 15 channels, kernel size 3, stride 2, padding=\"valid\", 15 output channels )\n",
        "# 4. ReLU\n",
        "# 5. Convolutional layer, (input=length 9 and 15 channels, kernel size 3, stride 2, padding=\"valid\", 15 output channels)\n",
        "# 6. ReLU\n",
        "# 7. Flatten (converts 4x15) to length 60\n",
        "# 8. Linear layer (input size = 60, output size = 10)\n",
        "# References:\n",
        "# https://pytorch.org/docs/1.13/generated/torch.nn.Conv1d.html?highlight=conv1d#torch.nn.Conv1d\n",
        "# https://pytorch.org/docs/stable/generated/torch.nn.Flatten.html\n",
        "# https://pytorch.org/docs/1.13/generated/torch.nn.Linear.html?highlight=linear#torch.nn.Linear\n",
        "\n",
        "# NOTE THAT THE CONVOLUTIONAL LAYERS NEED TO TAKE THE NUMBER OF INPUT CHANNELS AS A PARAMETER\n",
        "# AND NOT THE INPUT SIZE.\n",
        "\n",
        "model = nn.Sequential(\n",
        "    nn.Conv1d(in_channels=1, out_channels=15, kernel_size=3, stride=2, padding_mode=\"zeros\"),\n",
        "    nn.ReLU(),\n",
        "    nn.Conv1d(in_channels=15, out_channels=15, kernel_size=3, stride=2, padding_mode=\"zeros\"),\n",
        "    nn.ReLU(),\n",
        "    nn.Conv1d(in_channels=15, out_channels=15, kernel_size=3, stride=2, padding_mode=\"zeros\"),\n",
        "    nn.ReLU(),\n",
        "    nn.Flatten(start_dim=1, end_dim=-1),\n",
        "    nn.Linear(60, 10)\n",
        ")"
      ]
    },
    {
      "cell_type": "code",
      "execution_count": 36,
      "metadata": {
        "id": "YgLaex1pfhqz"
      },
      "outputs": [],
      "source": [
        "# He initialization of weights\n",
        "def weights_init(layer_in):\n",
        "  if isinstance(layer_in, nn.Linear):\n",
        "    nn.init.kaiming_uniform_(layer_in.weight)\n",
        "    layer_in.bias.data.fill_(0.0)"
      ]
    },
    {
      "cell_type": "code",
      "execution_count": 37,
      "metadata": {
        "id": "NYw8I_3mmX5c"
      },
      "outputs": [
        {
          "name": "stdout",
          "output_type": "stream",
          "text": [
            "Epoch     0, train loss 2.019101, train error 75.85,  val loss 2.015521, percent error 78.00\n",
            "Epoch     1, train loss 1.727160, train error 68.50,  val loss 1.754486, percent error 71.30\n",
            "Epoch     2, train loss 1.450191, train error 58.00,  val loss 1.457353, percent error 60.00\n",
            "Epoch     3, train loss 1.350536, train error 55.05,  val loss 1.351274, percent error 55.70\n",
            "Epoch     4, train loss 1.292984, train error 53.12,  val loss 1.315577, percent error 56.50\n",
            "Epoch     5, train loss 1.259616, train error 52.38,  val loss 1.259959, percent error 54.40\n",
            "Epoch     6, train loss 1.207560, train error 49.58,  val loss 1.225933, percent error 53.10\n",
            "Epoch     7, train loss 1.123465, train error 45.45,  val loss 1.148947, percent error 46.60\n",
            "Epoch     8, train loss 1.053254, train error 41.47,  val loss 1.089794, percent error 43.60\n",
            "Epoch     9, train loss 0.881960, train error 34.35,  val loss 0.943199, percent error 38.10\n",
            "Epoch    10, train loss 0.772447, train error 30.55,  val loss 0.831563, percent error 33.50\n",
            "Epoch    11, train loss 0.686982, train error 26.03,  val loss 0.736833, percent error 28.30\n",
            "Epoch    12, train loss 0.586066, train error 21.70,  val loss 0.637115, percent error 23.40\n",
            "Epoch    13, train loss 0.567290, train error 20.55,  val loss 0.634637, percent error 21.90\n",
            "Epoch    14, train loss 0.510105, train error 18.50,  val loss 0.623808, percent error 22.80\n",
            "Epoch    15, train loss 0.419226, train error 15.03,  val loss 0.506143, percent error 17.80\n",
            "Epoch    16, train loss 0.386165, train error 13.75,  val loss 0.520346, percent error 17.00\n",
            "Epoch    17, train loss 0.524620, train error 19.15,  val loss 0.687858, percent error 24.50\n",
            "Epoch    18, train loss 0.294585, train error 10.38,  val loss 0.443364, percent error 15.20\n",
            "Epoch    19, train loss 0.252380, train error 8.60,  val loss 0.380851, percent error 12.90\n",
            "Epoch    20, train loss 0.238734, train error 8.38,  val loss 0.421272, percent error 13.70\n",
            "Epoch    21, train loss 0.211466, train error 7.38,  val loss 0.343392, percent error 11.50\n",
            "Epoch    22, train loss 0.195029, train error 6.07,  val loss 0.346171, percent error 11.10\n",
            "Epoch    23, train loss 0.173822, train error 5.60,  val loss 0.339361, percent error 10.60\n",
            "Epoch    24, train loss 0.171828, train error 5.75,  val loss 0.336733, percent error 10.80\n",
            "Epoch    25, train loss 0.171991, train error 5.50,  val loss 0.339329, percent error 11.30\n",
            "Epoch    26, train loss 0.185274, train error 6.65,  val loss 0.360337, percent error 12.10\n",
            "Epoch    27, train loss 0.164587, train error 5.18,  val loss 0.351340, percent error 10.20\n",
            "Epoch    28, train loss 0.152844, train error 4.78,  val loss 0.335399, percent error 11.20\n",
            "Epoch    29, train loss 0.144894, train error 4.60,  val loss 0.331064, percent error 10.70\n",
            "Epoch    30, train loss 0.134453, train error 4.35,  val loss 0.314577, percent error 10.70\n",
            "Epoch    31, train loss 0.126449, train error 3.78,  val loss 0.303748, percent error 10.00\n",
            "Epoch    32, train loss 0.129230, train error 4.00,  val loss 0.310891, percent error 9.80\n",
            "Epoch    33, train loss 0.127575, train error 4.05,  val loss 0.327994, percent error 9.80\n",
            "Epoch    34, train loss 0.129391, train error 4.35,  val loss 0.348271, percent error 10.30\n",
            "Epoch    35, train loss 0.120357, train error 3.72,  val loss 0.310208, percent error 9.30\n",
            "Epoch    36, train loss 0.134079, train error 4.70,  val loss 0.337697, percent error 10.20\n",
            "Epoch    37, train loss 0.105662, train error 3.30,  val loss 0.286050, percent error 8.70\n",
            "Epoch    38, train loss 0.109012, train error 3.62,  val loss 0.337119, percent error 9.90\n",
            "Epoch    39, train loss 0.105890, train error 3.47,  val loss 0.306317, percent error 9.20\n",
            "Epoch    40, train loss 0.086085, train error 2.45,  val loss 0.300653, percent error 9.40\n",
            "Epoch    41, train loss 0.083411, train error 2.53,  val loss 0.292395, percent error 8.50\n",
            "Epoch    42, train loss 0.080061, train error 2.35,  val loss 0.288551, percent error 9.10\n",
            "Epoch    43, train loss 0.080098, train error 2.22,  val loss 0.297507, percent error 8.70\n",
            "Epoch    44, train loss 0.080080, train error 2.40,  val loss 0.317310, percent error 9.30\n",
            "Epoch    45, train loss 0.075310, train error 1.97,  val loss 0.305028, percent error 9.10\n",
            "Epoch    46, train loss 0.073073, train error 1.88,  val loss 0.306686, percent error 9.00\n",
            "Epoch    47, train loss 0.069660, train error 1.80,  val loss 0.312606, percent error 8.90\n",
            "Epoch    48, train loss 0.074870, train error 2.20,  val loss 0.324405, percent error 8.80\n",
            "Epoch    49, train loss 0.071609, train error 2.07,  val loss 0.328931, percent error 8.80\n",
            "Epoch    50, train loss 0.064357, train error 1.68,  val loss 0.307499, percent error 8.80\n",
            "Epoch    51, train loss 0.070645, train error 1.72,  val loss 0.328753, percent error 8.80\n",
            "Epoch    52, train loss 0.063502, train error 1.60,  val loss 0.321386, percent error 9.10\n",
            "Epoch    53, train loss 0.066606, train error 1.80,  val loss 0.328857, percent error 9.10\n",
            "Epoch    54, train loss 0.060671, train error 1.55,  val loss 0.328062, percent error 9.00\n",
            "Epoch    55, train loss 0.067128, train error 2.00,  val loss 0.353025, percent error 9.30\n",
            "Epoch    56, train loss 0.066742, train error 1.95,  val loss 0.320627, percent error 8.90\n",
            "Epoch    57, train loss 0.063764, train error 1.78,  val loss 0.324401, percent error 8.80\n",
            "Epoch    58, train loss 0.059468, train error 1.57,  val loss 0.333843, percent error 9.00\n",
            "Epoch    59, train loss 0.057216, train error 1.43,  val loss 0.328312, percent error 8.10\n",
            "Epoch    60, train loss 0.054407, train error 1.32,  val loss 0.329672, percent error 8.30\n",
            "Epoch    61, train loss 0.052037, train error 1.25,  val loss 0.329649, percent error 8.80\n",
            "Epoch    62, train loss 0.053427, train error 1.32,  val loss 0.331992, percent error 9.00\n",
            "Epoch    63, train loss 0.050956, train error 1.25,  val loss 0.336834, percent error 8.50\n",
            "Epoch    64, train loss 0.050317, train error 1.22,  val loss 0.335626, percent error 8.30\n",
            "Epoch    65, train loss 0.050612, train error 1.22,  val loss 0.333865, percent error 8.00\n",
            "Epoch    66, train loss 0.050342, train error 1.25,  val loss 0.342294, percent error 8.30\n",
            "Epoch    67, train loss 0.050582, train error 1.12,  val loss 0.332697, percent error 8.80\n",
            "Epoch    68, train loss 0.048822, train error 1.18,  val loss 0.333601, percent error 8.50\n",
            "Epoch    69, train loss 0.048157, train error 1.10,  val loss 0.336737, percent error 8.40\n",
            "Epoch    70, train loss 0.051062, train error 1.25,  val loss 0.342477, percent error 9.00\n",
            "Epoch    71, train loss 0.047550, train error 1.18,  val loss 0.342936, percent error 8.40\n",
            "Epoch    72, train loss 0.047647, train error 1.20,  val loss 0.348507, percent error 8.30\n",
            "Epoch    73, train loss 0.047638, train error 1.15,  val loss 0.340438, percent error 8.50\n",
            "Epoch    74, train loss 0.045784, train error 1.05,  val loss 0.344220, percent error 8.50\n",
            "Epoch    75, train loss 0.045226, train error 1.03,  val loss 0.340002, percent error 8.40\n",
            "Epoch    76, train loss 0.044316, train error 0.97,  val loss 0.346324, percent error 8.50\n",
            "Epoch    77, train loss 0.044869, train error 1.05,  val loss 0.351080, percent error 8.30\n",
            "Epoch    78, train loss 0.045575, train error 1.03,  val loss 0.347037, percent error 9.00\n",
            "Epoch    79, train loss 0.045600, train error 1.05,  val loss 0.352176, percent error 8.30\n",
            "Epoch    80, train loss 0.043094, train error 0.97,  val loss 0.347947, percent error 8.60\n",
            "Epoch    81, train loss 0.042542, train error 1.03,  val loss 0.347508, percent error 8.60\n",
            "Epoch    82, train loss 0.042004, train error 0.97,  val loss 0.348906, percent error 8.30\n",
            "Epoch    83, train loss 0.042032, train error 0.90,  val loss 0.347532, percent error 8.60\n",
            "Epoch    84, train loss 0.041635, train error 0.93,  val loss 0.352480, percent error 8.30\n",
            "Epoch    85, train loss 0.042889, train error 0.95,  val loss 0.350172, percent error 8.90\n",
            "Epoch    86, train loss 0.041625, train error 0.82,  val loss 0.356829, percent error 8.30\n",
            "Epoch    87, train loss 0.041671, train error 0.88,  val loss 0.351796, percent error 8.60\n",
            "Epoch    88, train loss 0.041197, train error 0.80,  val loss 0.357023, percent error 8.40\n",
            "Epoch    89, train loss 0.040648, train error 0.88,  val loss 0.353919, percent error 8.50\n",
            "Epoch    90, train loss 0.040981, train error 0.85,  val loss 0.360111, percent error 8.60\n",
            "Epoch    91, train loss 0.040482, train error 0.85,  val loss 0.356427, percent error 8.30\n",
            "Epoch    92, train loss 0.040205, train error 0.82,  val loss 0.358948, percent error 8.30\n",
            "Epoch    93, train loss 0.040079, train error 0.85,  val loss 0.354972, percent error 8.40\n",
            "Epoch    94, train loss 0.039850, train error 0.88,  val loss 0.356314, percent error 8.80\n",
            "Epoch    95, train loss 0.039789, train error 0.82,  val loss 0.357918, percent error 8.50\n",
            "Epoch    96, train loss 0.039292, train error 0.82,  val loss 0.358978, percent error 8.30\n",
            "Epoch    97, train loss 0.038994, train error 0.80,  val loss 0.358188, percent error 8.60\n",
            "Epoch    98, train loss 0.039132, train error 0.80,  val loss 0.360596, percent error 8.30\n",
            "Epoch    99, train loss 0.039642, train error 0.80,  val loss 0.358710, percent error 8.90\n"
          ]
        },
        {
          "data": {
            "image/png": "[encoded data removed]",
            "text/plain": [
              "<Figure size 640x480 with 1 Axes>"
            ]
          },
          "metadata": {},
          "output_type": "display_data"
        }
      ],
      "source": [
        "# choose cross entropy loss function (equation 5.24 in the loss notes)\n",
        "loss_function = nn.CrossEntropyLoss()\n",
        "# construct SGD optimizer and initialize learning rate and momentum\n",
        "optimizer = torch.optim.SGD(model.parameters(), lr = 0.05, momentum=0.9)\n",
        "# object that decreases learning rate by half every 20 epochs\n",
        "scheduler = StepLR(optimizer, step_size=20, gamma=0.5)\n",
        "# create 100 dummy data points and store in data loader class\n",
        "x_train = torch.tensor(train_data_x.transpose().astype('float32'))\n",
        "y_train = torch.tensor(train_data_y.astype('long')).long()\n",
        "x_val= torch.tensor(val_data_x.transpose().astype('float32'))\n",
        "y_val = torch.tensor(val_data_y.astype('long')).long()\n",
        "\n",
        "# load the data into a class that creates the batches\n",
        "data_loader = DataLoader(TensorDataset(x_train,y_train), batch_size=100, shuffle=True, worker_init_fn=np.random.seed(1))\n",
        "\n",
        "# Initialize model weights\n",
        "model.apply(weights_init)\n",
        "\n",
        "# loop over the dataset n_epoch times\n",
        "n_epoch = 100\n",
        "# store the loss and the % correct at each epoch\n",
        "losses_train = np.zeros((n_epoch))\n",
        "errors_train = np.zeros((n_epoch))\n",
        "losses_val = np.zeros((n_epoch))\n",
        "errors_val = np.zeros((n_epoch))\n",
        "\n",
        "for epoch in range(n_epoch):\n",
        "  # loop over batches\n",
        "  for i, data in enumerate(data_loader):\n",
        "    # retrieve inputs and labels for this batch\n",
        "    x_batch, y_batch = data\n",
        "    # zero the parameter gradients\n",
        "    optimizer.zero_grad()\n",
        "    # forward pass -- calculate model output\n",
        "    pred = model(x_batch[:,None,:])\n",
        "    # compute the loss\n",
        "    loss = loss_function(pred, y_batch)\n",
        "    # backward pass\n",
        "    loss.backward()\n",
        "    # SGD update\n",
        "    optimizer.step()\n",
        "\n",
        "  # Run whole dataset to get statistics -- normally wouldn't do this\n",
        "  pred_train = model(x_train[:,None,:])\n",
        "  pred_val = model(x_val[:,None,:])\n",
        "  _, predicted_train_class = torch.max(pred_train.data, 1)\n",
        "  _, predicted_val_class = torch.max(pred_val.data, 1)\n",
        "  errors_train[epoch] = 100 - 100 * (predicted_train_class == y_train).float().sum() / len(y_train)\n",
        "  errors_val[epoch]= 100 - 100 * (predicted_val_class == y_val).float().sum() / len(y_val)\n",
        "  losses_train[epoch] = loss_function(pred_train, y_train).item()\n",
        "  losses_val[epoch]= loss_function(pred_val, y_val).item()\n",
        "  print(f'Epoch {epoch:5d}, train loss {losses_train[epoch]:.6f}, train error {errors_train[epoch]:3.2f},  val loss {losses_val[epoch]:.6f}, percent error {errors_val[epoch]:3.2f}')\n",
        "\n",
        "  # tell scheduler to consider updating learning rate\n",
        "  scheduler.step()\n",
        "\n",
        "# Plot the results\n",
        "fig, ax = plt.subplots()\n",
        "ax.plot(errors_train,'r-',label='train')\n",
        "ax.plot(errors_val,'b-',label='validation')\n",
        "ax.set_ylim(0,100); ax.set_xlim(0,n_epoch)\n",
        "ax.set_xlabel('Epoch'); ax.set_ylabel('Error')\n",
        "ax.set_title('Part I: Validation Result %3.2f'%(errors_val[-1]))\n",
        "ax.legend()\n",
        "plt.show()"
      ]
    }
  ],
  "metadata": {
    "colab": {
      "authorship_tag": "ABX9TyNJodaaCLMRWL9vTl8B/iLI",
      "include_colab_link": true,
      "provenance": []
    },
    "kernelspec": {
      "display_name": "Python 3",
      "name": "python3"
    },
    "language_info": {
      "codemirror_mode": {
        "name": "ipython",
        "version": 3
      },
      "file_extension": ".py",
      "mimetype": "text/x-python",
      "name": "python",
      "nbconvert_exporter": "python",
      "pygments_lexer": "ipython3",
      "version": "3.11.7"
    }
  },
  "nbformat": 4,
  "nbformat_minor": 0
}
