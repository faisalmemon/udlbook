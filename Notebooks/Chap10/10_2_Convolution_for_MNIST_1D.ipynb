{
  "cells": [
    {
      "cell_type": "markdown",
      "metadata": {
        "colab_type": "text",
        "id": "view-in-github"
      },
      "source": [
        "<a href=\"https://colab.research.google.com/github/udlbook/udlbook/blob/main/Notebooks/Chap10/10_2_Convolution_for_MNIST_1D.ipynb\" target=\"_parent\"><img src=\"https://colab.research.google.com/assets/colab-badge.svg\" alt=\"Open In Colab\"/></a>"
      ]
    },
    {
      "cell_type": "markdown",
      "metadata": {
        "id": "t9vk9Elugvmi"
      },
      "source": [
        "# **Notebook 10.2: Convolution for MNIST-1D**\n",
        "\n",
        "This notebook investigates a 1D convolutional network for MNIST-1D as in figure 10.7 and 10.8a.\n",
        "\n",
        "Work through the cells below, running each cell in turn. In various places you will see the words \"TO DO\". Follow the instructions at these places and make predictions about what is going to happen or write code to complete the functions.\n",
        "\n",
        "Contact me at udlbookmail@gmail.com if you find any mistakes or have any suggestions.\n",
        "\n"
      ]
    },
    {
      "cell_type": "code",
      "execution_count": 1,
      "metadata": {
        "id": "D5yLObtZCi9J"
      },
      "outputs": [
        {
          "name": "stdout",
          "output_type": "stream",
          "text": [
            "Cloning into 'mnist1d'...\n",
            "remote: Enumerating objects: 529, done.\u001b[K\n",
            "remote: Counting objects: 100% (148/148), done.\u001b[K\n",
            "remote: Compressing objects: 100% (80/80), done.\u001b[K\n",
            "remote: Total 529 (delta 93), reused 104 (delta 66), pack-reused 381 (from 1)\u001b[K\n",
            "Receiving objects: 100% (529/529), 14.92 MiB | 15.02 MiB/s, done.\n",
            "Resolving deltas: 100% (246/246), done.\n"
          ]
        }
      ],
      "source": [
        "# Run this if you're in a Colab to make a local copy of the MNIST 1D repository\n",
        "!git clone https://github.com/greydanus/mnist1d"
      ]
    },
    {
      "cell_type": "code",
      "execution_count": 2,
      "metadata": {
        "id": "YrXWAH7sUWvU"
      },
      "outputs": [],
      "source": [
        "import numpy as np\n",
        "import os\n",
        "import torch, torch.nn as nn\n",
        "from torch.utils.data import TensorDataset, DataLoader\n",
        "from torch.optim.lr_scheduler import StepLR\n",
        "import matplotlib.pyplot as plt\n",
        "import mnist1d\n",
        "import random"
      ]
    },
    {
      "cell_type": "code",
      "execution_count": 3,
      "metadata": {
        "id": "twI72ZCrCt5z"
      },
      "outputs": [
        {
          "name": "stdout",
          "output_type": "stream",
          "text": [
            "Did or could not load data from ./mnist1d_data.pkl. Rebuilding dataset...\n",
            "Examples in training set: 4000\n",
            "Examples in test set: 1000\n",
            "Length of each example: 40\n"
          ]
        }
      ],
      "source": [
        "args = mnist1d.data.get_dataset_args()\n",
        "data = mnist1d.data.get_dataset(args, path='./mnist1d_data.pkl', download=False, regenerate=False)\n",
        "\n",
        "# The training and test input and outputs are in\n",
        "# data['x'], data['y'], data['x_test'], and data['y_test']\n",
        "print(\"Examples in training set: {}\".format(len(data['y'])))\n",
        "print(\"Examples in test set: {}\".format(len(data['y_test'])))\n",
        "print(\"Length of each example: {}\".format(data['x'].shape[-1]))"
      ]
    },
    {
      "cell_type": "code",
      "execution_count": 4,
      "metadata": {
        "id": "8bKADvLHbiV5"
      },
      "outputs": [
        {
          "name": "stdout",
          "output_type": "stream",
          "text": [
            "Train data: 4000 examples (columns), each of which has 40 dimensions (rows)\n",
            "Validation data: 1000 examples (columns), each of which has 40 dimensions (rows)\n"
          ]
        }
      ],
      "source": [
        "# Load in the data\n",
        "train_data_x = data['x'].transpose()\n",
        "train_data_y = data['y']\n",
        "val_data_x = data['x_test'].transpose()\n",
        "val_data_y = data['y_test']\n",
        "# Print out sizes\n",
        "print(\"Train data: %d examples (columns), each of which has %d dimensions (rows)\"%((train_data_x.shape[1],train_data_x.shape[0])))\n",
        "print(\"Validation data: %d examples (columns), each of which has %d dimensions (rows)\"%((val_data_x.shape[1],val_data_x.shape[0])))"
      ]
    },
    {
      "cell_type": "markdown",
      "metadata": {
        "id": "_sFvRDGrl4qe"
      },
      "source": [
        "Define the network"
      ]
    },
    {
      "cell_type": "code",
      "execution_count": 5,
      "metadata": {
        "id": "FslroPJJffrh"
      },
      "outputs": [],
      "source": [
        "# There are 40 input dimensions and 10 output dimensions for this data\n",
        "# The inputs correspond to the 40 offsets in the MNIST1D template.\n",
        "D_i = 40\n",
        "# The outputs correspond to the 10 digits\n",
        "D_o = 10\n",
        "\n",
        "\n",
        "# TODO Create a model with the following layers\n",
        "# 1. Convolutional layer, (input=length 40 and 1 channel, kernel size 3, stride 2, padding=\"valid\", 15 output channels )\n",
        "# 2. ReLU\n",
        "# 3. Convolutional layer, (input=length 19 and 15 channels, kernel size 3, stride 2, padding=\"valid\", 15 output channels )\n",
        "# 4. ReLU\n",
        "# 5. Convolutional layer, (input=length 9 and 15 channels, kernel size 3, stride 2, padding=\"valid\", 15 output channels)\n",
        "# 6. ReLU\n",
        "# 7. Flatten (converts 4x15) to length 60\n",
        "# 8. Linear layer (input size = 60, output size = 10)\n",
        "# References:\n",
        "# https://pytorch.org/docs/1.13/generated/torch.nn.Conv1d.html?highlight=conv1d#torch.nn.Conv1d\n",
        "# https://pytorch.org/docs/stable/generated/torch.nn.Flatten.html\n",
        "# https://pytorch.org/docs/1.13/generated/torch.nn.Linear.html?highlight=linear#torch.nn.Linear\n",
        "\n",
        "# NOTE THAT THE CONVOLUTIONAL LAYERS NEED TO TAKE THE NUMBER OF INPUT CHANNELS AS A PARAMETER\n",
        "# AND NOT THE INPUT SIZE.\n",
        "\n",
        "# Replace the following function:\n",
        "model = nn.Sequential(\n",
        "nn.Flatten(),\n",
        "nn.Linear(40, 100),\n",
        "nn.ReLU(),\n",
        "nn.Linear(100, 100),\n",
        "nn.ReLU(),\n",
        "nn.Linear(100, 10))\n",
        "\n",
        "\n",
        "\n"
      ]
    },
    {
      "cell_type": "code",
      "execution_count": 6,
      "metadata": {
        "id": "YgLaex1pfhqz"
      },
      "outputs": [],
      "source": [
        "# He initialization of weights\n",
        "def weights_init(layer_in):\n",
        "  if isinstance(layer_in, nn.Linear):\n",
        "    nn.init.kaiming_uniform_(layer_in.weight)\n",
        "    layer_in.bias.data.fill_(0.0)"
      ]
    },
    {
      "cell_type": "code",
      "execution_count": 7,
      "metadata": {
        "id": "NYw8I_3mmX5c"
      },
      "outputs": [
        {
          "name": "stdout",
          "output_type": "stream",
          "text": [
            "Epoch     0, train loss 1.590746, train error 60.80,  val loss 1.656653, percent error 64.60\n",
            "Epoch     1, train loss 1.341645, train error 48.58,  val loss 1.484508, percent error 60.40\n",
            "Epoch     2, train loss 1.137120, train error 40.85,  val loss 1.344495, percent error 53.10\n",
            "Epoch     3, train loss 1.002941, train error 35.65,  val loss 1.259739, percent error 49.20\n",
            "Epoch     4, train loss 0.928435, train error 33.47,  val loss 1.258339, percent error 47.60\n",
            "Epoch     5, train loss 0.774048, train error 27.07,  val loss 1.158813, percent error 44.80\n",
            "Epoch     6, train loss 0.709701, train error 23.82,  val loss 1.216396, percent error 45.30\n",
            "Epoch     7, train loss 0.669407, train error 23.05,  val loss 1.207859, percent error 43.40\n",
            "Epoch     8, train loss 0.598545, train error 21.78,  val loss 1.165924, percent error 42.60\n",
            "Epoch     9, train loss 0.514975, train error 16.50,  val loss 1.196709, percent error 42.10\n",
            "Epoch    10, train loss 0.434762, train error 13.03,  val loss 1.162192, percent error 40.80\n",
            "Epoch    11, train loss 0.461465, train error 16.57,  val loss 1.286402, percent error 41.50\n",
            "Epoch    12, train loss 0.364377, train error 11.70,  val loss 1.208650, percent error 40.50\n",
            "Epoch    13, train loss 0.311116, train error 9.20,  val loss 1.237210, percent error 40.40\n",
            "Epoch    14, train loss 0.260032, train error 6.93,  val loss 1.252911, percent error 39.70\n",
            "Epoch    15, train loss 0.234601, train error 6.35,  val loss 1.295014, percent error 40.20\n",
            "Epoch    16, train loss 0.227846, train error 6.57,  val loss 1.294607, percent error 38.00\n",
            "Epoch    17, train loss 0.193420, train error 5.12,  val loss 1.387623, percent error 40.80\n",
            "Epoch    18, train loss 0.170112, train error 4.68,  val loss 1.343583, percent error 37.90\n",
            "Epoch    19, train loss 0.149213, train error 4.20,  val loss 1.393325, percent error 37.50\n",
            "Epoch    20, train loss 0.080941, train error 0.53,  val loss 1.359841, percent error 37.60\n",
            "Epoch    21, train loss 0.066474, train error 0.28,  val loss 1.379289, percent error 37.70\n",
            "Epoch    22, train loss 0.057616, train error 0.10,  val loss 1.383245, percent error 36.20\n",
            "Epoch    23, train loss 0.051604, train error 0.07,  val loss 1.405660, percent error 35.90\n",
            "Epoch    24, train loss 0.048066, train error 0.05,  val loss 1.456062, percent error 37.40\n",
            "Epoch    25, train loss 0.042927, train error 0.05,  val loss 1.473610, percent error 36.50\n",
            "Epoch    26, train loss 0.040008, train error 0.03,  val loss 1.477376, percent error 36.10\n",
            "Epoch    27, train loss 0.035920, train error 0.03,  val loss 1.499941, percent error 36.20\n",
            "Epoch    28, train loss 0.033613, train error 0.03,  val loss 1.516585, percent error 35.90\n",
            "Epoch    29, train loss 0.031151, train error 0.00,  val loss 1.528030, percent error 36.50\n",
            "Epoch    30, train loss 0.028983, train error 0.00,  val loss 1.549245, percent error 36.50\n",
            "Epoch    31, train loss 0.027438, train error 0.00,  val loss 1.576411, percent error 36.10\n",
            "Epoch    32, train loss 0.026064, train error 0.00,  val loss 1.587847, percent error 36.50\n",
            "Epoch    33, train loss 0.024383, train error 0.00,  val loss 1.606530, percent error 36.30\n",
            "Epoch    34, train loss 0.022720, train error 0.00,  val loss 1.621782, percent error 37.40\n",
            "Epoch    35, train loss 0.021658, train error 0.00,  val loss 1.643678, percent error 37.00\n",
            "Epoch    36, train loss 0.020666, train error 0.00,  val loss 1.652359, percent error 36.40\n",
            "Epoch    37, train loss 0.019471, train error 0.00,  val loss 1.666461, percent error 36.40\n",
            "Epoch    38, train loss 0.018596, train error 0.00,  val loss 1.669310, percent error 36.50\n",
            "Epoch    39, train loss 0.017927, train error 0.00,  val loss 1.691556, percent error 36.20\n",
            "Epoch    40, train loss 0.017134, train error 0.00,  val loss 1.695749, percent error 36.50\n",
            "Epoch    41, train loss 0.016586, train error 0.00,  val loss 1.695896, percent error 36.40\n",
            "Epoch    42, train loss 0.016217, train error 0.00,  val loss 1.702141, percent error 36.50\n",
            "Epoch    43, train loss 0.015929, train error 0.00,  val loss 1.712436, percent error 36.70\n",
            "Epoch    44, train loss 0.015577, train error 0.00,  val loss 1.719280, percent error 36.90\n",
            "Epoch    45, train loss 0.015339, train error 0.00,  val loss 1.723569, percent error 36.60\n",
            "Epoch    46, train loss 0.014969, train error 0.00,  val loss 1.725757, percent error 36.40\n",
            "Epoch    47, train loss 0.014665, train error 0.00,  val loss 1.732816, percent error 37.10\n",
            "Epoch    48, train loss 0.014442, train error 0.00,  val loss 1.736602, percent error 36.90\n",
            "Epoch    49, train loss 0.014199, train error 0.00,  val loss 1.741086, percent error 36.30\n",
            "Epoch    50, train loss 0.013866, train error 0.00,  val loss 1.748659, percent error 37.00\n",
            "Epoch    51, train loss 0.013641, train error 0.00,  val loss 1.752863, percent error 36.90\n",
            "Epoch    52, train loss 0.013477, train error 0.00,  val loss 1.757547, percent error 36.90\n",
            "Epoch    53, train loss 0.013167, train error 0.00,  val loss 1.764778, percent error 37.10\n",
            "Epoch    54, train loss 0.012905, train error 0.00,  val loss 1.767648, percent error 36.80\n",
            "Epoch    55, train loss 0.012678, train error 0.00,  val loss 1.770963, percent error 36.90\n",
            "Epoch    56, train loss 0.012512, train error 0.00,  val loss 1.781897, percent error 37.30\n",
            "Epoch    57, train loss 0.012252, train error 0.00,  val loss 1.779436, percent error 36.70\n",
            "Epoch    58, train loss 0.012202, train error 0.00,  val loss 1.787325, percent error 37.00\n",
            "Epoch    59, train loss 0.011868, train error 0.00,  val loss 1.789810, percent error 37.00\n",
            "Epoch    60, train loss 0.011741, train error 0.00,  val loss 1.791682, percent error 37.00\n",
            "Epoch    61, train loss 0.011638, train error 0.00,  val loss 1.793463, percent error 37.00\n",
            "Epoch    62, train loss 0.011545, train error 0.00,  val loss 1.795155, percent error 37.00\n",
            "Epoch    63, train loss 0.011455, train error 0.00,  val loss 1.797693, percent error 37.00\n",
            "Epoch    64, train loss 0.011361, train error 0.00,  val loss 1.799016, percent error 37.00\n",
            "Epoch    65, train loss 0.011276, train error 0.00,  val loss 1.801209, percent error 37.10\n",
            "Epoch    66, train loss 0.011187, train error 0.00,  val loss 1.803686, percent error 37.00\n",
            "Epoch    67, train loss 0.011098, train error 0.00,  val loss 1.807368, percent error 37.00\n",
            "Epoch    68, train loss 0.011017, train error 0.00,  val loss 1.808605, percent error 37.00\n",
            "Epoch    69, train loss 0.010937, train error 0.00,  val loss 1.809491, percent error 36.90\n",
            "Epoch    70, train loss 0.010850, train error 0.00,  val loss 1.812513, percent error 36.90\n",
            "Epoch    71, train loss 0.010775, train error 0.00,  val loss 1.814192, percent error 37.00\n",
            "Epoch    72, train loss 0.010690, train error 0.00,  val loss 1.817895, percent error 37.10\n",
            "Epoch    73, train loss 0.010611, train error 0.00,  val loss 1.817758, percent error 36.90\n",
            "Epoch    74, train loss 0.010535, train error 0.00,  val loss 1.819946, percent error 36.90\n",
            "Epoch    75, train loss 0.010453, train error 0.00,  val loss 1.823008, percent error 37.00\n",
            "Epoch    76, train loss 0.010376, train error 0.00,  val loss 1.825565, percent error 37.00\n",
            "Epoch    77, train loss 0.010301, train error 0.00,  val loss 1.826809, percent error 37.20\n",
            "Epoch    78, train loss 0.010229, train error 0.00,  val loss 1.829828, percent error 37.00\n",
            "Epoch    79, train loss 0.010157, train error 0.00,  val loss 1.832175, percent error 37.00\n",
            "Epoch    80, train loss 0.010115, train error 0.00,  val loss 1.832123, percent error 37.00\n",
            "Epoch    81, train loss 0.010078, train error 0.00,  val loss 1.832796, percent error 37.10\n",
            "Epoch    82, train loss 0.010043, train error 0.00,  val loss 1.833296, percent error 37.00\n",
            "Epoch    83, train loss 0.010007, train error 0.00,  val loss 1.835276, percent error 37.00\n",
            "Epoch    84, train loss 0.009973, train error 0.00,  val loss 1.835738, percent error 37.00\n",
            "Epoch    85, train loss 0.009938, train error 0.00,  val loss 1.836675, percent error 37.00\n",
            "Epoch    86, train loss 0.009904, train error 0.00,  val loss 1.837519, percent error 37.00\n",
            "Epoch    87, train loss 0.009867, train error 0.00,  val loss 1.838152, percent error 36.90\n",
            "Epoch    88, train loss 0.009834, train error 0.00,  val loss 1.839657, percent error 36.90\n",
            "Epoch    89, train loss 0.009800, train error 0.00,  val loss 1.840216, percent error 37.10\n",
            "Epoch    90, train loss 0.009766, train error 0.00,  val loss 1.841079, percent error 36.90\n",
            "Epoch    91, train loss 0.009732, train error 0.00,  val loss 1.842960, percent error 37.00\n",
            "Epoch    92, train loss 0.009699, train error 0.00,  val loss 1.843218, percent error 37.00\n",
            "Epoch    93, train loss 0.009668, train error 0.00,  val loss 1.844439, percent error 36.90\n",
            "Epoch    94, train loss 0.009633, train error 0.00,  val loss 1.845654, percent error 37.00\n",
            "Epoch    95, train loss 0.009600, train error 0.00,  val loss 1.846146, percent error 37.00\n",
            "Epoch    96, train loss 0.009568, train error 0.00,  val loss 1.846849, percent error 36.90\n",
            "Epoch    97, train loss 0.009536, train error 0.00,  val loss 1.848400, percent error 36.90\n",
            "Epoch    98, train loss 0.009505, train error 0.00,  val loss 1.849085, percent error 37.00\n",
            "Epoch    99, train loss 0.009472, train error 0.00,  val loss 1.849704, percent error 37.00\n"
          ]
        },
        {
          "data": {
            "image/png": "[encoded data removed]",
            "text/plain": [
              "<Figure size 640x480 with 1 Axes>"
            ]
          },
          "metadata": {},
          "output_type": "display_data"
        }
      ],
      "source": [
        "# choose cross entropy loss function (equation 5.24 in the loss notes)\n",
        "loss_function = nn.CrossEntropyLoss()\n",
        "# construct SGD optimizer and initialize learning rate and momentum\n",
        "optimizer = torch.optim.SGD(model.parameters(), lr = 0.05, momentum=0.9)\n",
        "# object that decreases learning rate by half every 20 epochs\n",
        "scheduler = StepLR(optimizer, step_size=20, gamma=0.5)\n",
        "# create 100 dummy data points and store in data loader class\n",
        "x_train = torch.tensor(train_data_x.transpose().astype('float32'))\n",
        "y_train = torch.tensor(train_data_y.astype('long')).long()\n",
        "x_val= torch.tensor(val_data_x.transpose().astype('float32'))\n",
        "y_val = torch.tensor(val_data_y.astype('long')).long()\n",
        "\n",
        "# load the data into a class that creates the batches\n",
        "data_loader = DataLoader(TensorDataset(x_train,y_train), batch_size=100, shuffle=True, worker_init_fn=np.random.seed(1))\n",
        "\n",
        "# Initialize model weights\n",
        "model.apply(weights_init)\n",
        "\n",
        "# loop over the dataset n_epoch times\n",
        "n_epoch = 100\n",
        "# store the loss and the % correct at each epoch\n",
        "losses_train = np.zeros((n_epoch))\n",
        "errors_train = np.zeros((n_epoch))\n",
        "losses_val = np.zeros((n_epoch))\n",
        "errors_val = np.zeros((n_epoch))\n",
        "\n",
        "for epoch in range(n_epoch):\n",
        "  # loop over batches\n",
        "  for i, data in enumerate(data_loader):\n",
        "    # retrieve inputs and labels for this batch\n",
        "    x_batch, y_batch = data\n",
        "    # zero the parameter gradients\n",
        "    optimizer.zero_grad()\n",
        "    # forward pass -- calculate model output\n",
        "    pred = model(x_batch[:,None,:])\n",
        "    # compute the loss\n",
        "    loss = loss_function(pred, y_batch)\n",
        "    # backward pass\n",
        "    loss.backward()\n",
        "    # SGD update\n",
        "    optimizer.step()\n",
        "\n",
        "  # Run whole dataset to get statistics -- normally wouldn't do this\n",
        "  pred_train = model(x_train[:,None,:])\n",
        "  pred_val = model(x_val[:,None,:])\n",
        "  _, predicted_train_class = torch.max(pred_train.data, 1)\n",
        "  _, predicted_val_class = torch.max(pred_val.data, 1)\n",
        "  errors_train[epoch] = 100 - 100 * (predicted_train_class == y_train).float().sum() / len(y_train)\n",
        "  errors_val[epoch]= 100 - 100 * (predicted_val_class == y_val).float().sum() / len(y_val)\n",
        "  losses_train[epoch] = loss_function(pred_train, y_train).item()\n",
        "  losses_val[epoch]= loss_function(pred_val, y_val).item()\n",
        "  print(f'Epoch {epoch:5d}, train loss {losses_train[epoch]:.6f}, train error {errors_train[epoch]:3.2f},  val loss {losses_val[epoch]:.6f}, percent error {errors_val[epoch]:3.2f}')\n",
        "\n",
        "  # tell scheduler to consider updating learning rate\n",
        "  scheduler.step()\n",
        "\n",
        "# Plot the results\n",
        "fig, ax = plt.subplots()\n",
        "ax.plot(errors_train,'r-',label='train')\n",
        "ax.plot(errors_val,'b-',label='validation')\n",
        "ax.set_ylim(0,100); ax.set_xlim(0,n_epoch)\n",
        "ax.set_xlabel('Epoch'); ax.set_ylabel('Error')\n",
        "ax.set_title('Part I: Validation Result %3.2f'%(errors_val[-1]))\n",
        "ax.legend()\n",
        "plt.show()"
      ]
    }
  ],
  "metadata": {
    "colab": {
      "authorship_tag": "ABX9TyNJodaaCLMRWL9vTl8B/iLI",
      "include_colab_link": true,
      "provenance": []
    },
    "kernelspec": {
      "display_name": "Python 3",
      "name": "python3"
    },
    "language_info": {
      "codemirror_mode": {
        "name": "ipython",
        "version": 3
      },
      "file_extension": ".py",
      "mimetype": "text/x-python",
      "name": "python",
      "nbconvert_exporter": "python",
      "pygments_lexer": "ipython3",
      "version": "3.11.7"
    }
  },
  "nbformat": 4,
  "nbformat_minor": 0
}
