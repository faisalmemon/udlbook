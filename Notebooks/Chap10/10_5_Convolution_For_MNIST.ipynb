{
  "cells": [
    {
      "cell_type": "markdown",
      "metadata": {
        "colab_type": "text",
        "id": "view-in-github"
      },
      "source": [
        "<a href=\"https://colab.research.google.com/github/udlbook/udlbook/blob/main/Notebooks/Chap10/10_5_Convolution_For_MNIST.ipynb\" target=\"_parent\"><img src=\"https://colab.research.google.com/assets/colab-badge.svg\" alt=\"Open In Colab\"/></a>"
      ]
    },
    {
      "cell_type": "markdown",
      "metadata": {
        "id": "t9vk9Elugvmi"
      },
      "source": [
        "# **Notebook 10.5: Convolution for MNIST**\n",
        "\n",
        "This notebook builds a proper network for 2D convolution.  It works with the MNIST dataset (figure 15.15a), which was the original classic dataset for classifying images.  The network will take a 28x28 grayscale image and classify it into one of 10 classes representing a digit.\n",
        "\n",
        "The code is adapted from https://nextjournal.com/gkoehler/pytorch-mnist\n",
        "\n",
        "Work through the cells below, running each cell in turn. In various places you will see the words \"TO DO\". Follow the instructions at these places and make predictions about what is going to happen or write code to complete the functions.\n",
        "\n",
        "Contact me at udlbookmail@gmail.com if you find any mistakes or have any suggestions.\n"
      ]
    },
    {
      "cell_type": "code",
      "execution_count": 1,
      "metadata": {
        "id": "YrXWAH7sUWvU"
      },
      "outputs": [],
      "source": [
        "import torch\n",
        "import torchvision\n",
        "import torch.nn as nn\n",
        "import torch.nn.functional as F\n",
        "import torch.optim as optim\n",
        "import matplotlib.pyplot as plt\n",
        "import random"
      ]
    },
    {
      "cell_type": "code",
      "execution_count": 2,
      "metadata": {
        "id": "wScBGXXFVadm"
      },
      "outputs": [
        {
          "name": "stdout",
          "output_type": "stream",
          "text": [
            "Downloading http://yann.lecun.com/exdb/mnist/train-images-idx3-ubyte.gz\n",
            "Failed to download (trying next):\n",
            "HTTP Error 403: Forbidden\n",
            "\n",
            "Downloading https://ossci-datasets.s3.amazonaws.com/mnist/train-images-idx3-ubyte.gz\n",
            "Downloading https://ossci-datasets.s3.amazonaws.com/mnist/train-images-idx3-ubyte.gz to ./data/MNIST/raw/train-images-idx3-ubyte.gz\n"
          ]
        },
        {
          "name": "stderr",
          "output_type": "stream",
          "text": [
            "100%|██████████| 9912422/9912422 [00:01<00:00, 8898634.62it/s] \n"
          ]
        },
        {
          "name": "stdout",
          "output_type": "stream",
          "text": [
            "Extracting ./data/MNIST/raw/train-images-idx3-ubyte.gz to ./data/MNIST/raw\n",
            "\n",
            "Downloading http://yann.lecun.com/exdb/mnist/train-labels-idx1-ubyte.gz\n",
            "Failed to download (trying next):\n",
            "HTTP Error 403: Forbidden\n",
            "\n",
            "Downloading https://ossci-datasets.s3.amazonaws.com/mnist/train-labels-idx1-ubyte.gz\n",
            "Downloading https://ossci-datasets.s3.amazonaws.com/mnist/train-labels-idx1-ubyte.gz to ./data/MNIST/raw/train-labels-idx1-ubyte.gz\n"
          ]
        },
        {
          "name": "stderr",
          "output_type": "stream",
          "text": [
            "100%|██████████| 28881/28881 [00:00<00:00, 160058.58it/s]\n"
          ]
        },
        {
          "name": "stdout",
          "output_type": "stream",
          "text": [
            "Extracting ./data/MNIST/raw/train-labels-idx1-ubyte.gz to ./data/MNIST/raw\n",
            "\n",
            "Downloading http://yann.lecun.com/exdb/mnist/t10k-images-idx3-ubyte.gz\n",
            "Failed to download (trying next):\n",
            "HTTP Error 403: Forbidden\n",
            "\n",
            "Downloading https://ossci-datasets.s3.amazonaws.com/mnist/t10k-images-idx3-ubyte.gz\n",
            "Downloading https://ossci-datasets.s3.amazonaws.com/mnist/t10k-images-idx3-ubyte.gz to ./data/MNIST/raw/t10k-images-idx3-ubyte.gz\n"
          ]
        },
        {
          "name": "stderr",
          "output_type": "stream",
          "text": [
            "100%|██████████| 1648877/1648877 [00:00<00:00, 2946307.60it/s]\n"
          ]
        },
        {
          "name": "stdout",
          "output_type": "stream",
          "text": [
            "Extracting ./data/MNIST/raw/t10k-images-idx3-ubyte.gz to ./data/MNIST/raw\n",
            "\n",
            "Downloading http://yann.lecun.com/exdb/mnist/t10k-labels-idx1-ubyte.gz\n",
            "Failed to download (trying next):\n",
            "HTTP Error 403: Forbidden\n",
            "\n",
            "Downloading https://ossci-datasets.s3.amazonaws.com/mnist/t10k-labels-idx1-ubyte.gz\n",
            "Downloading https://ossci-datasets.s3.amazonaws.com/mnist/t10k-labels-idx1-ubyte.gz to ./data/MNIST/raw/t10k-labels-idx1-ubyte.gz\n"
          ]
        },
        {
          "name": "stderr",
          "output_type": "stream",
          "text": [
            "100%|██████████| 4542/4542 [00:00<00:00, 1264807.38it/s]"
          ]
        },
        {
          "name": "stdout",
          "output_type": "stream",
          "text": [
            "Extracting ./data/MNIST/raw/t10k-labels-idx1-ubyte.gz to ./data/MNIST/raw\n",
            "\n"
          ]
        },
        {
          "name": "stderr",
          "output_type": "stream",
          "text": [
            "\n"
          ]
        }
      ],
      "source": [
        "# Run this once to load the train and test data straight into a dataloader class\n",
        "# that will provide the batches\n",
        "batch_size_train = 64\n",
        "batch_size_test = 1000\n",
        "train_loader = torch.utils.data.DataLoader(\n",
        "  torchvision.datasets.MNIST(root='./data',\n",
        "                             train=True, download=True,\n",
        "                             transform=torchvision.transforms.Compose([\n",
        "                               torchvision.transforms.ToTensor(),\n",
        "                               torchvision.transforms.Normalize(\n",
        "                                 (0.1307,), (0.3081,))\n",
        "                             ])),\n",
        "  batch_size=batch_size_train, shuffle=True)\n",
        "\n",
        "test_loader = torch.utils.data.DataLoader(\n",
        "  torchvision.datasets.MNIST(root='./data', train=False, download=True,\n",
        "                             transform=torchvision.transforms.Compose([\n",
        "                               torchvision.transforms.ToTensor(),\n",
        "                               torchvision.transforms.Normalize(\n",
        "                                 (0.1307,), (0.3081,))\n",
        "                             ])),\n",
        "  batch_size=batch_size_test, shuffle=True)"
      ]
    },
    {
      "cell_type": "code",
      "execution_count": 3,
      "metadata": {
        "id": "8bKADvLHbiV5"
      },
      "outputs": [
        {
          "data": {
            "image/png": "[encoded data removed]",
            "text/plain": [
              "<Figure size 640x480 with 6 Axes>"
            ]
          },
          "metadata": {},
          "output_type": "display_data"
        }
      ],
      "source": [
        "# Let's draw some of the training data\n",
        "examples = enumerate(test_loader)\n",
        "batch_idx, (example_data, example_targets) = next(examples)\n",
        "\n",
        "fig = plt.figure()\n",
        "for i in range(6):\n",
        "  plt.subplot(2,3,i+1)\n",
        "  plt.tight_layout()\n",
        "  plt.imshow(example_data[i][0], cmap='gray', interpolation='none')\n",
        "  plt.title(\"Ground Truth: {}\".format(example_targets[i]))\n",
        "  plt.xticks([])\n",
        "  plt.yticks([])\n",
        "plt.show()"
      ]
    },
    {
      "cell_type": "markdown",
      "metadata": {
        "id": "_sFvRDGrl4qe"
      },
      "source": [
        "Define the network.  This is a more typical way to define a network than the sequential structure.  We define a class for the network, and define the parameters in the constructor.  Then we use a function called forward to actually run the network.  It's easy to see how you might use residual connections in this format."
      ]
    },
    {
      "cell_type": "code",
      "execution_count": 4,
      "metadata": {
        "id": "EQkvw2KOPVl7"
      },
      "outputs": [],
      "source": [
        "from os import X_OK\n",
        "# TODO Change this class to implement\n",
        "# 1. A valid convolution with kernel size 5, 1 input channel and 10 output channels\n",
        "# 2. A max pooling operation over a 2x2 area\n",
        "# 3. A Relu\n",
        "# 4. A valid convolution with kernel size 5, 10 input channels and 20 output channels\n",
        "# 5. A 2D Dropout layer\n",
        "# 6. A max pooling operation over a 2x2 area\n",
        "# 7. A relu\n",
        "# 8. A flattening operation\n",
        "# 9. A fully connected layer mapping from (whatever dimensions we are at-- find out using .shape) to 50\n",
        "# 10. A ReLU\n",
        "# 11. A fully connected layer mapping from 50 to 10 dimensions\n",
        "# 12. A softmax function.\n",
        "\n",
        "# Replace this class which implements a minimal network (which still does okay)\n",
        "class Net(nn.Module):\n",
        "    def __init__(self):\n",
        "        super(Net, self).__init__()\n",
        "        # Valid convolution, 1 channel in, 2 channels out, stride 1, kernel size = 3\n",
        "        self.conv1 = nn.Conv2d(1, 2, kernel_size=3)\n",
        "        # Dropout for convolutions\n",
        "        self.drop = nn.Dropout2d()\n",
        "        # Fully connected layer\n",
        "        self.fc1 = nn.Linear(338, 10)\n",
        "\n",
        "    def forward(self, x):\n",
        "        x = self.conv1(x)\n",
        "        x = self.drop(x)\n",
        "        x = F.max_pool2d(x,2)\n",
        "        x = F.relu(x)\n",
        "        x = x.flatten(1)\n",
        "        x = self.fc1(x)\n",
        "        x = F.log_softmax(x)\n",
        "        return x\n",
        "\n",
        "\n",
        "\n",
        "\n"
      ]
    },
    {
      "cell_type": "code",
      "execution_count": 5,
      "metadata": {
        "id": "qWZtkCZcU_dg"
      },
      "outputs": [],
      "source": [
        "# He initialization of weights\n",
        "def weights_init(layer_in):\n",
        "  if isinstance(layer_in, nn.Linear):\n",
        "    nn.init.kaiming_uniform_(layer_in.weight)\n",
        "    layer_in.bias.data.fill_(0.0)"
      ]
    },
    {
      "cell_type": "code",
      "execution_count": 6,
      "metadata": {
        "id": "FslroPJJffrh"
      },
      "outputs": [],
      "source": [
        "# Create network\n",
        "model = Net()\n",
        "# Initialize model weights\n",
        "model.apply(weights_init)\n",
        "# Define optimizer\n",
        "optimizer = optim.SGD(model.parameters(), lr=0.01, momentum=0.5)"
      ]
    },
    {
      "cell_type": "code",
      "execution_count": 7,
      "metadata": {
        "id": "xKQd9PzkQ766"
      },
      "outputs": [],
      "source": [
        "# Main training routine\n",
        "def train(epoch):\n",
        "  model.train()\n",
        "  # Get each\n",
        "  for batch_idx, (data, target) in enumerate(train_loader):\n",
        "    optimizer.zero_grad()\n",
        "    output = model(data)\n",
        "    loss = F.nll_loss(output, target)\n",
        "    loss.backward()\n",
        "    optimizer.step()\n",
        "    # Store results\n",
        "    if batch_idx % 10 == 0:\n",
        "      print('Train Epoch: {} [{}/{}]\\tLoss: {:.6f}'.format(\n",
        "        epoch, batch_idx * len(data), len(train_loader.dataset), loss.item()))"
      ]
    },
    {
      "cell_type": "code",
      "execution_count": 8,
      "metadata": {
        "id": "Byn-f7qWRLxX"
      },
      "outputs": [],
      "source": [
        "# Run on test data\n",
        "def test():\n",
        "  model.eval()\n",
        "  test_loss = 0\n",
        "  correct = 0\n",
        "  with torch.no_grad():\n",
        "    for data, target in test_loader:\n",
        "      output = model(data)\n",
        "      test_loss += F.nll_loss(output, target, size_average=False).item()\n",
        "      pred = output.data.max(1, keepdim=True)[1]\n",
        "      correct += pred.eq(target.data.view_as(pred)).sum()\n",
        "  test_loss /= len(test_loader.dataset)\n",
        "  print('\\nTest set: Avg. loss: {:.4f}, Accuracy: {}/{} ({:.0f}%)\\n'.format(\n",
        "    test_loss, correct, len(test_loader.dataset),\n",
        "    100. * correct / len(test_loader.dataset)))"
      ]
    },
    {
      "cell_type": "code",
      "execution_count": 9,
      "metadata": {
        "id": "YgLaex1pfhqz"
      },
      "outputs": [
        {
          "name": "stderr",
          "output_type": "stream",
          "text": [
            "/var/folders/gh/vdl03fv17_36s00xtl3zb_t00000gn/T/ipykernel_53553/2166679198.py:34: UserWarning: Implicit dimension choice for log_softmax has been deprecated. Change the call to include dim=X as an argument.\n",
            "  x = F.log_softmax(x)\n",
            "/opt/homebrew/anaconda3/lib/python3.11/site-packages/torch/nn/_reduction.py:42: UserWarning: size_average and reduce args will be deprecated, please use reduction='sum' instead.\n",
            "  warnings.warn(warning.format(ret))\n"
          ]
        },
        {
          "name": "stdout",
          "output_type": "stream",
          "text": [
            "\n",
            "Test set: Avg. loss: 2.3007, Accuracy: 1149/10000 (11%)\n",
            "\n",
            "Train Epoch: 1 [0/60000]\tLoss: 2.404500\n",
            "Train Epoch: 1 [640/60000]\tLoss: 2.181925\n",
            "Train Epoch: 1 [1280/60000]\tLoss: 2.264996\n",
            "Train Epoch: 1 [1920/60000]\tLoss: 2.203959\n",
            "Train Epoch: 1 [2560/60000]\tLoss: 2.239721\n",
            "Train Epoch: 1 [3200/60000]\tLoss: 2.139170\n",
            "Train Epoch: 1 [3840/60000]\tLoss: 2.092570\n",
            "Train Epoch: 1 [4480/60000]\tLoss: 2.130240\n",
            "Train Epoch: 1 [5120/60000]\tLoss: 1.963747\n",
            "Train Epoch: 1 [5760/60000]\tLoss: 2.107619\n",
            "Train Epoch: 1 [6400/60000]\tLoss: 1.955194\n",
            "Train Epoch: 1 [7040/60000]\tLoss: 1.795644\n",
            "Train Epoch: 1 [7680/60000]\tLoss: 1.870883\n",
            "Train Epoch: 1 [8320/60000]\tLoss: 1.640888\n",
            "Train Epoch: 1 [8960/60000]\tLoss: 1.594325\n",
            "Train Epoch: 1 [9600/60000]\tLoss: 1.522004\n",
            "Train Epoch: 1 [10240/60000]\tLoss: 1.568378\n",
            "Train Epoch: 1 [10880/60000]\tLoss: 1.684628\n",
            "Train Epoch: 1 [11520/60000]\tLoss: 1.572615\n",
            "Train Epoch: 1 [12160/60000]\tLoss: 1.521917\n",
            "Train Epoch: 1 [12800/60000]\tLoss: 1.217558\n",
            "Train Epoch: 1 [13440/60000]\tLoss: 1.379705\n",
            "Train Epoch: 1 [14080/60000]\tLoss: 1.228729\n",
            "Train Epoch: 1 [14720/60000]\tLoss: 1.472668\n",
            "Train Epoch: 1 [15360/60000]\tLoss: 1.341586\n",
            "Train Epoch: 1 [16000/60000]\tLoss: 1.260682\n",
            "Train Epoch: 1 [16640/60000]\tLoss: 1.173515\n",
            "Train Epoch: 1 [17280/60000]\tLoss: 1.514055\n",
            "Train Epoch: 1 [17920/60000]\tLoss: 1.103106\n",
            "Train Epoch: 1 [18560/60000]\tLoss: 0.979785\n",
            "Train Epoch: 1 [19200/60000]\tLoss: 1.065153\n",
            "Train Epoch: 1 [19840/60000]\tLoss: 1.026131\n",
            "Train Epoch: 1 [20480/60000]\tLoss: 1.158463\n",
            "Train Epoch: 1 [21120/60000]\tLoss: 1.291841\n",
            "Train Epoch: 1 [21760/60000]\tLoss: 1.269084\n",
            "Train Epoch: 1 [22400/60000]\tLoss: 0.917669\n",
            "Train Epoch: 1 [23040/60000]\tLoss: 1.099090\n",
            "Train Epoch: 1 [23680/60000]\tLoss: 1.092189\n",
            "Train Epoch: 1 [24320/60000]\tLoss: 1.067150\n",
            "Train Epoch: 1 [24960/60000]\tLoss: 1.123554\n",
            "Train Epoch: 1 [25600/60000]\tLoss: 0.839822\n",
            "Train Epoch: 1 [26240/60000]\tLoss: 0.829227\n",
            "Train Epoch: 1 [26880/60000]\tLoss: 0.963069\n",
            "Train Epoch: 1 [27520/60000]\tLoss: 0.927310\n",
            "Train Epoch: 1 [28160/60000]\tLoss: 0.950950\n",
            "Train Epoch: 1 [28800/60000]\tLoss: 0.868622\n",
            "Train Epoch: 1 [29440/60000]\tLoss: 0.955909\n",
            "Train Epoch: 1 [30080/60000]\tLoss: 1.015187\n",
            "Train Epoch: 1 [30720/60000]\tLoss: 1.234613\n",
            "Train Epoch: 1 [31360/60000]\tLoss: 1.045433\n",
            "Train Epoch: 1 [32000/60000]\tLoss: 0.987155\n",
            "Train Epoch: 1 [32640/60000]\tLoss: 0.997762\n",
            "Train Epoch: 1 [33280/60000]\tLoss: 0.857106\n",
            "Train Epoch: 1 [33920/60000]\tLoss: 0.820345\n",
            "Train Epoch: 1 [34560/60000]\tLoss: 1.048819\n",
            "Train Epoch: 1 [35200/60000]\tLoss: 1.099223\n",
            "Train Epoch: 1 [35840/60000]\tLoss: 0.711209\n",
            "Train Epoch: 1 [36480/60000]\tLoss: 0.830053\n",
            "Train Epoch: 1 [37120/60000]\tLoss: 0.659516\n",
            "Train Epoch: 1 [37760/60000]\tLoss: 1.060502\n",
            "Train Epoch: 1 [38400/60000]\tLoss: 0.912907\n",
            "Train Epoch: 1 [39040/60000]\tLoss: 1.025223\n",
            "Train Epoch: 1 [39680/60000]\tLoss: 1.007498\n",
            "Train Epoch: 1 [40320/60000]\tLoss: 0.737507\n",
            "Train Epoch: 1 [40960/60000]\tLoss: 0.987867\n",
            "Train Epoch: 1 [41600/60000]\tLoss: 0.766918\n",
            "Train Epoch: 1 [42240/60000]\tLoss: 0.818077\n",
            "Train Epoch: 1 [42880/60000]\tLoss: 1.059287\n",
            "Train Epoch: 1 [43520/60000]\tLoss: 1.010111\n",
            "Train Epoch: 1 [44160/60000]\tLoss: 0.939653\n",
            "Train Epoch: 1 [44800/60000]\tLoss: 0.764490\n",
            "Train Epoch: 1 [45440/60000]\tLoss: 0.931506\n",
            "Train Epoch: 1 [46080/60000]\tLoss: 0.793722\n",
            "Train Epoch: 1 [46720/60000]\tLoss: 0.896261\n",
            "Train Epoch: 1 [47360/60000]\tLoss: 0.880846\n",
            "Train Epoch: 1 [48000/60000]\tLoss: 0.878434\n",
            "Train Epoch: 1 [48640/60000]\tLoss: 1.180737\n",
            "Train Epoch: 1 [49280/60000]\tLoss: 0.902312\n",
            "Train Epoch: 1 [49920/60000]\tLoss: 1.024157\n",
            "Train Epoch: 1 [50560/60000]\tLoss: 0.758707\n",
            "Train Epoch: 1 [51200/60000]\tLoss: 0.801261\n",
            "Train Epoch: 1 [51840/60000]\tLoss: 0.961083\n",
            "Train Epoch: 1 [52480/60000]\tLoss: 0.941973\n",
            "Train Epoch: 1 [53120/60000]\tLoss: 0.834743\n",
            "Train Epoch: 1 [53760/60000]\tLoss: 0.956935\n",
            "Train Epoch: 1 [54400/60000]\tLoss: 0.979631\n",
            "Train Epoch: 1 [55040/60000]\tLoss: 0.979265\n",
            "Train Epoch: 1 [55680/60000]\tLoss: 0.917354\n",
            "Train Epoch: 1 [56320/60000]\tLoss: 0.915478\n",
            "Train Epoch: 1 [56960/60000]\tLoss: 0.822960\n",
            "Train Epoch: 1 [57600/60000]\tLoss: 0.997959\n",
            "Train Epoch: 1 [58240/60000]\tLoss: 0.741421\n",
            "Train Epoch: 1 [58880/60000]\tLoss: 0.992393\n",
            "Train Epoch: 1 [59520/60000]\tLoss: 0.999503\n",
            "\n",
            "Test set: Avg. loss: 0.3901, Accuracy: 8834/10000 (88%)\n",
            "\n",
            "Train Epoch: 2 [0/60000]\tLoss: 0.964030\n",
            "Train Epoch: 2 [640/60000]\tLoss: 1.255561\n",
            "Train Epoch: 2 [1280/60000]\tLoss: 0.892364\n",
            "Train Epoch: 2 [1920/60000]\tLoss: 0.650217\n",
            "Train Epoch: 2 [2560/60000]\tLoss: 0.824001\n",
            "Train Epoch: 2 [3200/60000]\tLoss: 0.870515\n",
            "Train Epoch: 2 [3840/60000]\tLoss: 1.120497\n",
            "Train Epoch: 2 [4480/60000]\tLoss: 0.743377\n",
            "Train Epoch: 2 [5120/60000]\tLoss: 1.267505\n",
            "Train Epoch: 2 [5760/60000]\tLoss: 0.724812\n",
            "Train Epoch: 2 [6400/60000]\tLoss: 0.910997\n",
            "Train Epoch: 2 [7040/60000]\tLoss: 0.831583\n",
            "Train Epoch: 2 [7680/60000]\tLoss: 1.021118\n",
            "Train Epoch: 2 [8320/60000]\tLoss: 1.063404\n",
            "Train Epoch: 2 [8960/60000]\tLoss: 0.739602\n",
            "Train Epoch: 2 [9600/60000]\tLoss: 1.042567\n",
            "Train Epoch: 2 [10240/60000]\tLoss: 1.022379\n",
            "Train Epoch: 2 [10880/60000]\tLoss: 0.613053\n",
            "Train Epoch: 2 [11520/60000]\tLoss: 0.916456\n",
            "Train Epoch: 2 [12160/60000]\tLoss: 0.938652\n",
            "Train Epoch: 2 [12800/60000]\tLoss: 0.889557\n",
            "Train Epoch: 2 [13440/60000]\tLoss: 0.632304\n",
            "Train Epoch: 2 [14080/60000]\tLoss: 0.738411\n",
            "Train Epoch: 2 [14720/60000]\tLoss: 1.062585\n",
            "Train Epoch: 2 [15360/60000]\tLoss: 0.816485\n",
            "Train Epoch: 2 [16000/60000]\tLoss: 0.539789\n",
            "Train Epoch: 2 [16640/60000]\tLoss: 0.866353\n",
            "Train Epoch: 2 [17280/60000]\tLoss: 1.107332\n",
            "Train Epoch: 2 [17920/60000]\tLoss: 0.918796\n",
            "Train Epoch: 2 [18560/60000]\tLoss: 1.063440\n",
            "Train Epoch: 2 [19200/60000]\tLoss: 0.746565\n",
            "Train Epoch: 2 [19840/60000]\tLoss: 1.077885\n",
            "Train Epoch: 2 [20480/60000]\tLoss: 0.804580\n",
            "Train Epoch: 2 [21120/60000]\tLoss: 0.841843\n",
            "Train Epoch: 2 [21760/60000]\tLoss: 0.777091\n",
            "Train Epoch: 2 [22400/60000]\tLoss: 0.870330\n",
            "Train Epoch: 2 [23040/60000]\tLoss: 0.778707\n",
            "Train Epoch: 2 [23680/60000]\tLoss: 0.908679\n",
            "Train Epoch: 2 [24320/60000]\tLoss: 1.186968\n",
            "Train Epoch: 2 [24960/60000]\tLoss: 0.831991\n",
            "Train Epoch: 2 [25600/60000]\tLoss: 1.056349\n",
            "Train Epoch: 2 [26240/60000]\tLoss: 0.914158\n",
            "Train Epoch: 2 [26880/60000]\tLoss: 0.967028\n",
            "Train Epoch: 2 [27520/60000]\tLoss: 0.788333\n",
            "Train Epoch: 2 [28160/60000]\tLoss: 0.753265\n",
            "Train Epoch: 2 [28800/60000]\tLoss: 0.564129\n",
            "Train Epoch: 2 [29440/60000]\tLoss: 1.173243\n",
            "Train Epoch: 2 [30080/60000]\tLoss: 0.805749\n",
            "Train Epoch: 2 [30720/60000]\tLoss: 0.798728\n",
            "Train Epoch: 2 [31360/60000]\tLoss: 0.864722\n",
            "Train Epoch: 2 [32000/60000]\tLoss: 0.767718\n",
            "Train Epoch: 2 [32640/60000]\tLoss: 0.835334\n",
            "Train Epoch: 2 [33280/60000]\tLoss: 1.129119\n",
            "Train Epoch: 2 [33920/60000]\tLoss: 0.883701\n",
            "Train Epoch: 2 [34560/60000]\tLoss: 1.077363\n",
            "Train Epoch: 2 [35200/60000]\tLoss: 0.781824\n",
            "Train Epoch: 2 [35840/60000]\tLoss: 0.961160\n",
            "Train Epoch: 2 [36480/60000]\tLoss: 0.927940\n",
            "Train Epoch: 2 [37120/60000]\tLoss: 0.819603\n",
            "Train Epoch: 2 [37760/60000]\tLoss: 1.027112\n",
            "Train Epoch: 2 [38400/60000]\tLoss: 1.024855\n",
            "Train Epoch: 2 [39040/60000]\tLoss: 0.798233\n",
            "Train Epoch: 2 [39680/60000]\tLoss: 0.708567\n",
            "Train Epoch: 2 [40320/60000]\tLoss: 1.094123\n",
            "Train Epoch: 2 [40960/60000]\tLoss: 0.688883\n",
            "Train Epoch: 2 [41600/60000]\tLoss: 0.970539\n",
            "Train Epoch: 2 [42240/60000]\tLoss: 0.755799\n",
            "Train Epoch: 2 [42880/60000]\tLoss: 0.794564\n",
            "Train Epoch: 2 [43520/60000]\tLoss: 0.994980\n",
            "Train Epoch: 2 [44160/60000]\tLoss: 0.918404\n",
            "Train Epoch: 2 [44800/60000]\tLoss: 0.947165\n",
            "Train Epoch: 2 [45440/60000]\tLoss: 1.005396\n",
            "Train Epoch: 2 [46080/60000]\tLoss: 0.890517\n",
            "Train Epoch: 2 [46720/60000]\tLoss: 1.039872\n",
            "Train Epoch: 2 [47360/60000]\tLoss: 0.751369\n",
            "Train Epoch: 2 [48000/60000]\tLoss: 0.821874\n",
            "Train Epoch: 2 [48640/60000]\tLoss: 0.837380\n",
            "Train Epoch: 2 [49280/60000]\tLoss: 0.661301\n",
            "Train Epoch: 2 [49920/60000]\tLoss: 1.187449\n",
            "Train Epoch: 2 [50560/60000]\tLoss: 1.089388\n",
            "Train Epoch: 2 [51200/60000]\tLoss: 0.928483\n",
            "Train Epoch: 2 [51840/60000]\tLoss: 1.151271\n",
            "Train Epoch: 2 [52480/60000]\tLoss: 0.891865\n",
            "Train Epoch: 2 [53120/60000]\tLoss: 0.953310\n",
            "Train Epoch: 2 [53760/60000]\tLoss: 0.754386\n",
            "Train Epoch: 2 [54400/60000]\tLoss: 1.037178\n",
            "Train Epoch: 2 [55040/60000]\tLoss: 0.968393\n",
            "Train Epoch: 2 [55680/60000]\tLoss: 1.146586\n",
            "Train Epoch: 2 [56320/60000]\tLoss: 0.950802\n",
            "Train Epoch: 2 [56960/60000]\tLoss: 0.851544\n",
            "Train Epoch: 2 [57600/60000]\tLoss: 1.076747\n",
            "Train Epoch: 2 [58240/60000]\tLoss: 0.977691\n",
            "Train Epoch: 2 [58880/60000]\tLoss: 0.775582\n",
            "Train Epoch: 2 [59520/60000]\tLoss: 0.490807\n",
            "\n",
            "Test set: Avg. loss: 0.3290, Accuracy: 9057/10000 (91%)\n",
            "\n",
            "Train Epoch: 3 [0/60000]\tLoss: 0.885076\n",
            "Train Epoch: 3 [640/60000]\tLoss: 0.704029\n",
            "Train Epoch: 3 [1280/60000]\tLoss: 0.626293\n",
            "Train Epoch: 3 [1920/60000]\tLoss: 0.821739\n",
            "Train Epoch: 3 [2560/60000]\tLoss: 0.717424\n",
            "Train Epoch: 3 [3200/60000]\tLoss: 0.856850\n",
            "Train Epoch: 3 [3840/60000]\tLoss: 0.443865\n",
            "Train Epoch: 3 [4480/60000]\tLoss: 0.902633\n",
            "Train Epoch: 3 [5120/60000]\tLoss: 0.691083\n",
            "Train Epoch: 3 [5760/60000]\tLoss: 1.044283\n",
            "Train Epoch: 3 [6400/60000]\tLoss: 0.704106\n",
            "Train Epoch: 3 [7040/60000]\tLoss: 1.012230\n",
            "Train Epoch: 3 [7680/60000]\tLoss: 1.146701\n",
            "Train Epoch: 3 [8320/60000]\tLoss: 0.780049\n",
            "Train Epoch: 3 [8960/60000]\tLoss: 0.885728\n",
            "Train Epoch: 3 [9600/60000]\tLoss: 0.642625\n",
            "Train Epoch: 3 [10240/60000]\tLoss: 0.948053\n",
            "Train Epoch: 3 [10880/60000]\tLoss: 1.262446\n",
            "Train Epoch: 3 [11520/60000]\tLoss: 0.869771\n",
            "Train Epoch: 3 [12160/60000]\tLoss: 0.836848\n",
            "Train Epoch: 3 [12800/60000]\tLoss: 0.843926\n",
            "Train Epoch: 3 [13440/60000]\tLoss: 0.830112\n",
            "Train Epoch: 3 [14080/60000]\tLoss: 0.833745\n",
            "Train Epoch: 3 [14720/60000]\tLoss: 0.968208\n",
            "Train Epoch: 3 [15360/60000]\tLoss: 1.026878\n",
            "Train Epoch: 3 [16000/60000]\tLoss: 0.919836\n",
            "Train Epoch: 3 [16640/60000]\tLoss: 0.816614\n",
            "Train Epoch: 3 [17280/60000]\tLoss: 1.006500\n",
            "Train Epoch: 3 [17920/60000]\tLoss: 0.866739\n",
            "Train Epoch: 3 [18560/60000]\tLoss: 1.100863\n",
            "Train Epoch: 3 [19200/60000]\tLoss: 1.207886\n",
            "Train Epoch: 3 [19840/60000]\tLoss: 0.708666\n",
            "Train Epoch: 3 [20480/60000]\tLoss: 0.865171\n",
            "Train Epoch: 3 [21120/60000]\tLoss: 0.574077\n",
            "Train Epoch: 3 [21760/60000]\tLoss: 0.902161\n",
            "Train Epoch: 3 [22400/60000]\tLoss: 0.745568\n",
            "Train Epoch: 3 [23040/60000]\tLoss: 0.542485\n",
            "Train Epoch: 3 [23680/60000]\tLoss: 0.790778\n",
            "Train Epoch: 3 [24320/60000]\tLoss: 0.831006\n",
            "Train Epoch: 3 [24960/60000]\tLoss: 1.017805\n",
            "Train Epoch: 3 [25600/60000]\tLoss: 0.808672\n",
            "Train Epoch: 3 [26240/60000]\tLoss: 0.696842\n",
            "Train Epoch: 3 [26880/60000]\tLoss: 0.710753\n",
            "Train Epoch: 3 [27520/60000]\tLoss: 0.852673\n",
            "Train Epoch: 3 [28160/60000]\tLoss: 0.822081\n",
            "Train Epoch: 3 [28800/60000]\tLoss: 0.825069\n",
            "Train Epoch: 3 [29440/60000]\tLoss: 0.964140\n",
            "Train Epoch: 3 [30080/60000]\tLoss: 0.884544\n",
            "Train Epoch: 3 [30720/60000]\tLoss: 1.153080\n",
            "Train Epoch: 3 [31360/60000]\tLoss: 0.780623\n",
            "Train Epoch: 3 [32000/60000]\tLoss: 0.769229\n",
            "Train Epoch: 3 [32640/60000]\tLoss: 0.859140\n",
            "Train Epoch: 3 [33280/60000]\tLoss: 0.562450\n",
            "Train Epoch: 3 [33920/60000]\tLoss: 0.707735\n",
            "Train Epoch: 3 [34560/60000]\tLoss: 0.845457\n",
            "Train Epoch: 3 [35200/60000]\tLoss: 0.866230\n",
            "Train Epoch: 3 [35840/60000]\tLoss: 1.064208\n",
            "Train Epoch: 3 [36480/60000]\tLoss: 0.741785\n",
            "Train Epoch: 3 [37120/60000]\tLoss: 0.827822\n",
            "Train Epoch: 3 [37760/60000]\tLoss: 0.738919\n",
            "Train Epoch: 3 [38400/60000]\tLoss: 0.889072\n",
            "Train Epoch: 3 [39040/60000]\tLoss: 0.825470\n",
            "Train Epoch: 3 [39680/60000]\tLoss: 1.057773\n",
            "Train Epoch: 3 [40320/60000]\tLoss: 0.986969\n",
            "Train Epoch: 3 [40960/60000]\tLoss: 1.115192\n",
            "Train Epoch: 3 [41600/60000]\tLoss: 0.811959\n",
            "Train Epoch: 3 [42240/60000]\tLoss: 0.796001\n",
            "Train Epoch: 3 [42880/60000]\tLoss: 0.985488\n",
            "Train Epoch: 3 [43520/60000]\tLoss: 0.952088\n",
            "Train Epoch: 3 [44160/60000]\tLoss: 0.834176\n",
            "Train Epoch: 3 [44800/60000]\tLoss: 1.044070\n",
            "Train Epoch: 3 [45440/60000]\tLoss: 0.985308\n",
            "Train Epoch: 3 [46080/60000]\tLoss: 0.959329\n",
            "Train Epoch: 3 [46720/60000]\tLoss: 1.074768\n",
            "Train Epoch: 3 [47360/60000]\tLoss: 0.808774\n",
            "Train Epoch: 3 [48000/60000]\tLoss: 0.909755\n",
            "Train Epoch: 3 [48640/60000]\tLoss: 0.803780\n",
            "Train Epoch: 3 [49280/60000]\tLoss: 0.999148\n",
            "Train Epoch: 3 [49920/60000]\tLoss: 1.025537\n",
            "Train Epoch: 3 [50560/60000]\tLoss: 0.924580\n",
            "Train Epoch: 3 [51200/60000]\tLoss: 0.803187\n",
            "Train Epoch: 3 [51840/60000]\tLoss: 0.905406\n",
            "Train Epoch: 3 [52480/60000]\tLoss: 1.016303\n",
            "Train Epoch: 3 [53120/60000]\tLoss: 0.951792\n",
            "Train Epoch: 3 [53760/60000]\tLoss: 0.817604\n",
            "Train Epoch: 3 [54400/60000]\tLoss: 0.654999\n",
            "Train Epoch: 3 [55040/60000]\tLoss: 0.787479\n",
            "Train Epoch: 3 [55680/60000]\tLoss: 0.655230\n",
            "Train Epoch: 3 [56320/60000]\tLoss: 0.746286\n",
            "Train Epoch: 3 [56960/60000]\tLoss: 0.832586\n",
            "Train Epoch: 3 [57600/60000]\tLoss: 0.936126\n",
            "Train Epoch: 3 [58240/60000]\tLoss: 0.761425\n",
            "Train Epoch: 3 [58880/60000]\tLoss: 0.879582\n",
            "Train Epoch: 3 [59520/60000]\tLoss: 1.024532\n",
            "\n",
            "Test set: Avg. loss: 0.3183, Accuracy: 9086/10000 (91%)\n",
            "\n"
          ]
        }
      ],
      "source": [
        "# Get initial performance\n",
        "test()\n",
        "# Train for three epochs\n",
        "n_epochs = 3\n",
        "for epoch in range(1, n_epochs + 1):\n",
        "  train(epoch)\n",
        "  test()"
      ]
    },
    {
      "cell_type": "code",
      "execution_count": 10,
      "metadata": {
        "id": "o7fRUAy9Se1B"
      },
      "outputs": [
        {
          "name": "stderr",
          "output_type": "stream",
          "text": [
            "/var/folders/gh/vdl03fv17_36s00xtl3zb_t00000gn/T/ipykernel_53553/2166679198.py:34: UserWarning: Implicit dimension choice for log_softmax has been deprecated. Change the call to include dim=X as an argument.\n",
            "  x = F.log_softmax(x)\n"
          ]
        },
        {
          "data": {
            "image/png": "[encoded data removed]",
            "text/plain": [
              "<Figure size 640x480 with 10 Axes>"
            ]
          },
          "metadata": {},
          "output_type": "display_data"
        }
      ],
      "source": [
        "# Run network on data we got before and show predictions\n",
        "output = model(example_data)\n",
        "\n",
        "fig = plt.figure()\n",
        "for i in range(10):\n",
        "  plt.subplot(5,5,i+1)\n",
        "  plt.tight_layout()\n",
        "  plt.imshow(example_data[i][0], cmap='gray', interpolation='none')\n",
        "  plt.title(\"Prediction: {}\".format(\n",
        "    output.data.max(1, keepdim=True)[1][i].item()))\n",
        "  plt.xticks([])\n",
        "  plt.yticks([])\n",
        "plt.show()"
      ]
    }
  ],
  "metadata": {
    "colab": {
      "authorship_tag": "ABX9TyNAcc98STMeyQgh9SbVHWG+",
      "include_colab_link": true,
      "provenance": []
    },
    "kernelspec": {
      "display_name": "Python 3",
      "name": "python3"
    },
    "language_info": {
      "codemirror_mode": {
        "name": "ipython",
        "version": 3
      },
      "file_extension": ".py",
      "mimetype": "text/x-python",
      "name": "python",
      "nbconvert_exporter": "python",
      "pygments_lexer": "ipython3",
      "version": "3.11.7"
    }
  },
  "nbformat": 4,
  "nbformat_minor": 0
}
