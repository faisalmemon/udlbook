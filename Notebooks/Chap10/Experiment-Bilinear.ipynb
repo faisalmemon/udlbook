{
 "cells": [
  {
   "cell_type": "code",
   "execution_count": 16,
   "metadata": {},
   "outputs": [],
   "source": [
    "import numpy as np\n",
    "import matplotlib.pyplot as plt\n",
    "from PIL import Image\n",
    "from numpy import asarray"
   ]
  },
  {
   "cell_type": "code",
   "execution_count": 17,
   "metadata": {},
   "outputs": [
    {
     "name": "stdout",
     "output_type": "stream",
     "text": [
      "[[2 4]\n",
      " [4 8]]\n"
     ]
    }
   ],
   "source": [
    "# Define 2 by 2 original patch\n",
    "orig_2_2 = np.array([[2, 4], [4,8]])\n",
    "print(orig_2_2)"
   ]
  },
  {
   "cell_type": "code",
   "execution_count": 18,
   "metadata": {},
   "outputs": [],
   "source": [
    "def bl_resize(original_img, new_h, new_w):\n",
    "\t#get dimensions of original image\n",
    "\told_h, old_w, c = original_img.shape\n",
    "\t#create an array of the desired shape. \n",
    "\t#We will fill-in the values later.\n",
    "\tresized = np.zeros((new_h, new_w, c))\n",
    "\t#Calculate horizontal and vertical scaling factor\n",
    "\tw_scale_factor = (old_w ) / (new_w ) if new_h != 0 else 0\n",
    "\th_scale_factor = (old_h ) / (new_h ) if new_w != 0 else 0\n",
    "\tfor i in range(new_h):\n",
    "\t\tfor j in range(new_w):\n",
    "\t\t\t#map the coordinates back to the original image\n",
    "\t\t\tx = i * h_scale_factor\n",
    "\t\t\ty = j * w_scale_factor\n",
    "\t\t\t#calculate the coordinate values for 4 surrounding pixels.\n",
    "\t\t\tx_floor = math.floor(x)\n",
    "\t\t\tx_ceil = min( old_h - 1, math.ceil(x))\n",
    "\t\t\ty_floor = math.floor(y)\n",
    "\t\t\ty_ceil = min(old_w - 1, math.ceil(y))\n",
    "\n",
    "\t\t\tif (x_ceil == x_floor) and (y_ceil == y_floor):\n",
    "\t\t\t\tq = original_img[int(x), int(y), :]\n",
    "\t\t\telif (x_ceil == x_floor):\n",
    "\t\t\t\tq1 = original_img[int(x), int(y_floor), :]\n",
    "\t\t\t\tq2 = original_img[int(x), int(y_ceil), :]\n",
    "\t\t\t\tq = q1 * (y_ceil - y) + q2 * (y - y_floor)\n",
    "\t\t\telif (y_ceil == y_floor):\n",
    "\t\t\t\tq1 = original_img[int(x_floor), int(y), :]\n",
    "\t\t\t\tq2 = original_img[int(x_ceil), int(y), :]\n",
    "\t\t\t\tq = (q1 * (x_ceil - x)) + (q2\t * (x - x_floor))\n",
    "\t\t\telse:\n",
    "\t\t\t\tv1 = original_img[x_floor, y_floor, :]\n",
    "\t\t\t\tv2 = original_img[x_ceil, y_floor, :]\n",
    "\t\t\t\tv3 = original_img[x_floor, y_ceil, :]\n",
    "\t\t\t\tv4 = original_img[x_ceil, y_ceil, :]\n",
    "\n",
    "\t\t\t\tq1 = v1 * (x_ceil - x) + v2 * (x - x_floor)\n",
    "\t\t\t\tq2 = v3 * (x_ceil - x) + v4 * (x - x_floor)\n",
    "\t\t\t\tq = q1 * (y_ceil - y) + q2 * (y - y_floor)\n",
    "\n",
    "\t\t\tresized[i,j,:] = q\n",
    "\treturn resized.astype(np.uint8)"
   ]
  },
  {
   "cell_type": "code",
   "execution_count": 19,
   "metadata": {},
   "outputs": [
    {
     "ename": "ValueError",
     "evalue": "not enough values to unpack (expected 3, got 2)",
     "output_type": "error",
     "traceback": [
      "\u001b[0;31m---------------------------------------------------------------------------\u001b[0m",
      "\u001b[0;31mValueError\u001b[0m                                Traceback (most recent call last)",
      "Cell \u001b[0;32mIn[19], line 1\u001b[0m\n\u001b[0;32m----> 1\u001b[0m result \u001b[38;5;241m=\u001b[39m bl_resize(orig_2_2, \u001b[38;5;241m4\u001b[39m, \u001b[38;5;241m4\u001b[39m)\n\u001b[1;32m      2\u001b[0m \u001b[38;5;28mprint\u001b[39m(result)\n",
      "Cell \u001b[0;32mIn[18], line 3\u001b[0m, in \u001b[0;36mbl_resize\u001b[0;34m(original_img, new_h, new_w)\u001b[0m\n\u001b[1;32m      1\u001b[0m \u001b[38;5;28;01mdef\u001b[39;00m \u001b[38;5;21mbl_resize\u001b[39m(original_img, new_h, new_w):\n\u001b[1;32m      2\u001b[0m \t\u001b[38;5;66;03m#get dimensions of original image\u001b[39;00m\n\u001b[0;32m----> 3\u001b[0m \told_h, old_w, c \u001b[38;5;241m=\u001b[39m original_img\u001b[38;5;241m.\u001b[39mshape\n\u001b[1;32m      4\u001b[0m \t\u001b[38;5;66;03m#create an array of the desired shape. \u001b[39;00m\n\u001b[1;32m      5\u001b[0m \t\u001b[38;5;66;03m#We will fill-in the values later.\u001b[39;00m\n\u001b[1;32m      6\u001b[0m \tresized \u001b[38;5;241m=\u001b[39m np\u001b[38;5;241m.\u001b[39mzeros((new_h, new_w, c))\n",
      "\u001b[0;31mValueError\u001b[0m: not enough values to unpack (expected 3, got 2)"
     ]
    }
   ],
   "source": [
    "result = bl_resize(orig_2_2, 4, 4)\n",
    "print(result)"
   ]
  }
 ],
 "metadata": {
  "kernelspec": {
   "display_name": "Python 3",
   "language": "python",
   "name": "python3"
  },
  "language_info": {
   "codemirror_mode": {
    "name": "ipython",
    "version": 3
   },
   "file_extension": ".py",
   "mimetype": "text/x-python",
   "name": "python",
   "nbconvert_exporter": "python",
   "pygments_lexer": "ipython3",
   "version": "3.11.7"
  }
 },
 "nbformat": 4,
 "nbformat_minor": 2
}
