{
  "cells": [
    {
      "cell_type": "markdown",
      "metadata": {
        "colab_type": "text",
        "id": "view-in-github"
      },
      "source": [
        "<a href=\"https://colab.research.google.com/github/udlbook/udlbook/blob/main/Notebooks/Chap11/11_2_Residual_Networks.ipynb\" target=\"_parent\"><img src=\"https://colab.research.google.com/assets/colab-badge.svg\" alt=\"Open In Colab\"/></a>"
      ]
    },
    {
      "cell_type": "markdown",
      "metadata": {
        "id": "t9vk9Elugvmi"
      },
      "source": [
        "# **Notebook 11.2: Residual Networks**\n",
        "\n",
        "This notebook adapts the networks for MNIST1D to use residual connections.\n",
        "\n",
        "Work through the cells below, running each cell in turn. In various places you will see the words \"TO DO\". Follow the instructions at these places and make predictions about what is going to happen or write code to complete the functions.\n",
        "\n",
        "Contact me at udlbookmail@gmail.com if you find any mistakes or have any suggestions.\n",
        "\n"
      ]
    },
    {
      "cell_type": "code",
      "execution_count": 191,
      "metadata": {
        "id": "D5yLObtZCi9J"
      },
      "outputs": [
        {
          "name": "stdout",
          "output_type": "stream",
          "text": [
            "14754.63s - pydevd: Sending message related to process being replaced timed-out after 5 seconds\n",
            "fatal: destination path 'mnist1d' already exists and is not an empty directory.\n"
          ]
        }
      ],
      "source": [
        "# Run this if you're in a Colab to make a local copy of the MNIST 1D repository\n",
        "!git clone https://github.com/greydanus/mnist1d"
      ]
    },
    {
      "cell_type": "code",
      "execution_count": 192,
      "metadata": {
        "id": "YrXWAH7sUWvU"
      },
      "outputs": [],
      "source": [
        "import numpy as np\n",
        "import os\n",
        "import torch, torch.nn as nn\n",
        "from torch.utils.data import TensorDataset, DataLoader\n",
        "from torch.optim.lr_scheduler import StepLR\n",
        "import matplotlib.pyplot as plt\n",
        "import mnist1d\n",
        "import random"
      ]
    },
    {
      "cell_type": "code",
      "execution_count": 193,
      "metadata": {
        "id": "twI72ZCrCt5z"
      },
      "outputs": [
        {
          "name": "stdout",
          "output_type": "stream",
          "text": [
            "Successfully loaded data from ./mnist1d_data.pkl\n",
            "Examples in training set: 4000\n",
            "Examples in test set: 1000\n",
            "Length of each example: 40\n"
          ]
        }
      ],
      "source": [
        "args = mnist1d.data.get_dataset_args()\n",
        "data = mnist1d.data.get_dataset(args, path='./mnist1d_data.pkl', download=False, regenerate=False)\n",
        "\n",
        "# The training and test input and outputs are in\n",
        "# data['x'], data['y'], data['x_test'], and data['y_test']\n",
        "print(\"Examples in training set: {}\".format(len(data['y'])))\n",
        "print(\"Examples in test set: {}\".format(len(data['y_test'])))\n",
        "print(\"Length of each example: {}\".format(data['x'].shape[-1]))"
      ]
    },
    {
      "cell_type": "code",
      "execution_count": 194,
      "metadata": {
        "id": "8bKADvLHbiV5"
      },
      "outputs": [
        {
          "name": "stdout",
          "output_type": "stream",
          "text": [
            "Train data: 4000 examples (columns), each of which has 40 dimensions (rows)\n",
            "Validation data: 1000 examples (columns), each of which has 40 dimensions (rows)\n"
          ]
        }
      ],
      "source": [
        "# Load in the data\n",
        "train_data_x = data['x'].transpose()\n",
        "train_data_y = data['y']\n",
        "val_data_x = data['x_test'].transpose()\n",
        "val_data_y = data['y_test']\n",
        "# Print out sizes\n",
        "print(\"Train data: %d examples (columns), each of which has %d dimensions (rows)\"%((train_data_x.shape[1],train_data_x.shape[0])))\n",
        "print(\"Validation data: %d examples (columns), each of which has %d dimensions (rows)\"%((val_data_x.shape[1],val_data_x.shape[0])))"
      ]
    },
    {
      "cell_type": "markdown",
      "metadata": {
        "id": "_sFvRDGrl4qe"
      },
      "source": [
        "Define the network"
      ]
    },
    {
      "cell_type": "code",
      "execution_count": 195,
      "metadata": {
        "id": "FslroPJJffrh"
      },
      "outputs": [],
      "source": [
        "# There are 40 input dimensions and 10 output dimensions for this data\n",
        "# The inputs correspond to the 40 offsets in the MNIST1D template.\n",
        "D_i = 40\n",
        "# The outputs correspond to the 10 digits\n",
        "D_o = 10\n",
        "\n",
        "\n",
        "# We will adapt this model to have residual connections around the linear layers\n",
        "# This is the same model we used in practical 8.1, but we can't use the sequential\n",
        "# class for residual networks (which aren't strictly sequential).  Hence, I've rewritten\n",
        "# it as a model that inherits from a base class\n",
        "\n",
        "class ResidualNetwork(torch.nn.Module):\n",
        "  def __init__(self, input_size, output_size, hidden_size=100):\n",
        "    super(ResidualNetwork, self).__init__()\n",
        "    self.linear1 = nn.Linear(input_size, hidden_size)\n",
        "    self.linear2 = nn.Linear(hidden_size, hidden_size)\n",
        "    self.linear3 = nn.Linear(hidden_size, hidden_size)\n",
        "    self.linear4 = nn.Linear(hidden_size, output_size)\n",
        "    print(\"Initialized MLPBase model with {} parameters\".format(self.count_params()))\n",
        "\n",
        "  def count_params(self):\n",
        "    return sum([p.view(-1).shape[0] for p in self.parameters()])\n",
        "\n",
        "# The order of operations within each block should similar to figure 11.5b\n",
        "# ie., linear1 first, ReLU+linear2 in first residual block, ReLU+linear3 in second residual block), linear4 at end\n",
        "# Replace this function\n",
        "  def forward(self, x):\n",
        "      # 4 layers -> 32.9% performance on test set\n",
        "      f = self.linear1(x)\n",
        "      res1 = f + self.linear2(f.relu())\n",
        "      res2 = res1 + self.linear3(res1.relu())\n",
        "      return self.linear4(res2.relu())\n",
        "  \n",
        "  def forwardLinear(self, x):\n",
        "    # 4 layers -> 34.4% performance on test set\n",
        "    f1 = self.linear1(x)\n",
        "    f2 = self.linear2(f1.relu())\n",
        "    f3 = self.linear3(f2.relu())\n",
        "    f4 = self.linear4(f3)\n",
        "    return f4"
      ]
    },
    {
      "cell_type": "code",
      "execution_count": 196,
      "metadata": {
        "id": "YgLaex1pfhqz"
      },
      "outputs": [],
      "source": [
        "# He initialization of weights\n",
        "def weights_init(layer_in):\n",
        "  if isinstance(layer_in, nn.Linear):\n",
        "    nn.init.kaiming_uniform_(layer_in.weight)\n",
        "    layer_in.bias.data.fill_(0.0)"
      ]
    },
    {
      "cell_type": "code",
      "execution_count": 197,
      "metadata": {
        "id": "NYw8I_3mmX5c"
      },
      "outputs": [
        {
          "name": "stdout",
          "output_type": "stream",
          "text": [
            "Initialized MLPBase model with 25310 parameters\n",
            "Epoch     0, train loss 1.596404, train error 62.05,  val loss 1.681949, percent error 66.20\n",
            "Epoch     1, train loss 1.301217, train error 50.28,  val loss 1.434499, percent error 56.80\n",
            "Epoch     2, train loss 1.074057, train error 39.42,  val loss 1.299091, percent error 50.20\n",
            "Epoch     3, train loss 0.939318, train error 35.53,  val loss 1.270911, percent error 50.60\n",
            "Epoch     4, train loss 0.815740, train error 31.68,  val loss 1.255179, percent error 46.80\n",
            "Epoch     5, train loss 0.727760, train error 27.90,  val loss 1.181724, percent error 43.80\n",
            "Epoch     6, train loss 0.561328, train error 20.07,  val loss 1.105510, percent error 42.40\n",
            "Epoch     7, train loss 0.536145, train error 19.15,  val loss 1.144509, percent error 42.10\n",
            "Epoch     8, train loss 0.477326, train error 17.03,  val loss 1.199394, percent error 41.60\n",
            "Epoch     9, train loss 0.406804, train error 14.53,  val loss 1.176232, percent error 40.80\n",
            "Epoch    10, train loss 0.408928, train error 15.15,  val loss 1.231814, percent error 37.10\n",
            "Epoch    11, train loss 0.332730, train error 12.28,  val loss 1.171598, percent error 37.80\n",
            "Epoch    12, train loss 0.300735, train error 11.07,  val loss 1.230336, percent error 38.00\n",
            "Epoch    13, train loss 0.306317, train error 11.03,  val loss 1.260340, percent error 37.50\n",
            "Epoch    14, train loss 0.222372, train error 7.78,  val loss 1.237541, percent error 36.30\n",
            "Epoch    15, train loss 0.204658, train error 7.60,  val loss 1.320261, percent error 37.20\n",
            "Epoch    16, train loss 0.210924, train error 7.47,  val loss 1.545000, percent error 37.30\n",
            "Epoch    17, train loss 0.190750, train error 6.82,  val loss 1.474081, percent error 36.30\n",
            "Epoch    18, train loss 0.304106, train error 10.62,  val loss 1.648750, percent error 39.10\n",
            "Epoch    19, train loss 0.248565, train error 8.93,  val loss 1.620012, percent error 36.60\n",
            "Epoch    20, train loss 0.070716, train error 1.97,  val loss 1.476987, percent error 35.10\n",
            "Epoch    21, train loss 0.035874, train error 0.28,  val loss 1.467213, percent error 33.50\n",
            "Epoch    22, train loss 0.021006, train error 0.05,  val loss 1.416395, percent error 32.80\n",
            "Epoch    23, train loss 0.015182, train error 0.00,  val loss 1.485616, percent error 33.90\n",
            "Epoch    24, train loss 0.012282, train error 0.00,  val loss 1.510035, percent error 33.70\n",
            "Epoch    25, train loss 0.010160, train error 0.00,  val loss 1.536579, percent error 33.70\n",
            "Epoch    26, train loss 0.008730, train error 0.00,  val loss 1.567100, percent error 34.00\n",
            "Epoch    27, train loss 0.007677, train error 0.00,  val loss 1.593192, percent error 34.40\n",
            "Epoch    28, train loss 0.006850, train error 0.00,  val loss 1.616331, percent error 34.10\n",
            "Epoch    29, train loss 0.006205, train error 0.00,  val loss 1.629336, percent error 33.80\n",
            "Epoch    30, train loss 0.005655, train error 0.00,  val loss 1.653399, percent error 33.60\n",
            "Epoch    31, train loss 0.005168, train error 0.00,  val loss 1.672280, percent error 34.00\n",
            "Epoch    32, train loss 0.004788, train error 0.00,  val loss 1.686549, percent error 34.10\n",
            "Epoch    33, train loss 0.004454, train error 0.00,  val loss 1.707864, percent error 34.00\n",
            "Epoch    34, train loss 0.004155, train error 0.00,  val loss 1.720899, percent error 33.90\n",
            "Epoch    35, train loss 0.003906, train error 0.00,  val loss 1.731881, percent error 33.80\n",
            "Epoch    36, train loss 0.003673, train error 0.00,  val loss 1.744498, percent error 33.80\n",
            "Epoch    37, train loss 0.003465, train error 0.00,  val loss 1.762368, percent error 33.90\n",
            "Epoch    38, train loss 0.003278, train error 0.00,  val loss 1.772150, percent error 34.10\n",
            "Epoch    39, train loss 0.003108, train error 0.00,  val loss 1.783442, percent error 33.90\n",
            "Epoch    40, train loss 0.003027, train error 0.00,  val loss 1.789602, percent error 33.90\n",
            "Epoch    41, train loss 0.002956, train error 0.00,  val loss 1.796373, percent error 34.00\n",
            "Epoch    42, train loss 0.002887, train error 0.00,  val loss 1.801849, percent error 34.10\n",
            "Epoch    43, train loss 0.002822, train error 0.00,  val loss 1.805530, percent error 34.00\n",
            "Epoch    44, train loss 0.002758, train error 0.00,  val loss 1.812075, percent error 34.30\n",
            "Epoch    45, train loss 0.002697, train error 0.00,  val loss 1.817442, percent error 34.20\n",
            "Epoch    46, train loss 0.002640, train error 0.00,  val loss 1.822406, percent error 34.30\n",
            "Epoch    47, train loss 0.002585, train error 0.00,  val loss 1.825858, percent error 34.30\n",
            "Epoch    48, train loss 0.002533, train error 0.00,  val loss 1.831715, percent error 34.30\n",
            "Epoch    49, train loss 0.002480, train error 0.00,  val loss 1.837401, percent error 34.30\n",
            "Epoch    50, train loss 0.002430, train error 0.00,  val loss 1.842147, percent error 34.30\n",
            "Epoch    51, train loss 0.002383, train error 0.00,  val loss 1.845949, percent error 34.40\n",
            "Epoch    52, train loss 0.002337, train error 0.00,  val loss 1.851571, percent error 34.20\n",
            "Epoch    53, train loss 0.002292, train error 0.00,  val loss 1.855734, percent error 34.30\n",
            "Epoch    54, train loss 0.002250, train error 0.00,  val loss 1.860676, percent error 34.40\n",
            "Epoch    55, train loss 0.002209, train error 0.00,  val loss 1.864702, percent error 34.40\n",
            "Epoch    56, train loss 0.002169, train error 0.00,  val loss 1.868521, percent error 34.30\n",
            "Epoch    57, train loss 0.002130, train error 0.00,  val loss 1.871979, percent error 34.20\n",
            "Epoch    58, train loss 0.002094, train error 0.00,  val loss 1.876466, percent error 34.20\n",
            "Epoch    59, train loss 0.002058, train error 0.00,  val loss 1.881460, percent error 34.20\n",
            "Epoch    60, train loss 0.002039, train error 0.00,  val loss 1.883421, percent error 34.20\n",
            "Epoch    61, train loss 0.002022, train error 0.00,  val loss 1.885269, percent error 34.20\n",
            "Epoch    62, train loss 0.002005, train error 0.00,  val loss 1.887263, percent error 34.20\n",
            "Epoch    63, train loss 0.001988, train error 0.00,  val loss 1.889152, percent error 34.20\n",
            "Epoch    64, train loss 0.001972, train error 0.00,  val loss 1.891081, percent error 34.20\n",
            "Epoch    65, train loss 0.001955, train error 0.00,  val loss 1.893019, percent error 34.20\n",
            "Epoch    66, train loss 0.001940, train error 0.00,  val loss 1.895296, percent error 34.20\n",
            "Epoch    67, train loss 0.001924, train error 0.00,  val loss 1.897104, percent error 34.20\n",
            "Epoch    68, train loss 0.001909, train error 0.00,  val loss 1.898824, percent error 34.30\n",
            "Epoch    69, train loss 0.001893, train error 0.00,  val loss 1.901385, percent error 34.40\n",
            "Epoch    70, train loss 0.001879, train error 0.00,  val loss 1.902964, percent error 34.30\n",
            "Epoch    71, train loss 0.001864, train error 0.00,  val loss 1.904933, percent error 34.30\n",
            "Epoch    72, train loss 0.001849, train error 0.00,  val loss 1.906663, percent error 34.40\n",
            "Epoch    73, train loss 0.001835, train error 0.00,  val loss 1.908783, percent error 34.40\n",
            "Epoch    74, train loss 0.001821, train error 0.00,  val loss 1.910601, percent error 34.40\n",
            "Epoch    75, train loss 0.001807, train error 0.00,  val loss 1.912806, percent error 34.40\n",
            "Epoch    76, train loss 0.001793, train error 0.00,  val loss 1.913963, percent error 34.40\n",
            "Epoch    77, train loss 0.001780, train error 0.00,  val loss 1.915940, percent error 34.40\n",
            "Epoch    78, train loss 0.001767, train error 0.00,  val loss 1.917686, percent error 34.40\n",
            "Epoch    79, train loss 0.001753, train error 0.00,  val loss 1.920036, percent error 34.30\n",
            "Epoch    80, train loss 0.001747, train error 0.00,  val loss 1.920841, percent error 34.40\n",
            "Epoch    81, train loss 0.001740, train error 0.00,  val loss 1.921597, percent error 34.40\n",
            "Epoch    82, train loss 0.001734, train error 0.00,  val loss 1.922558, percent error 34.40\n",
            "Epoch    83, train loss 0.001727, train error 0.00,  val loss 1.923520, percent error 34.40\n",
            "Epoch    84, train loss 0.001721, train error 0.00,  val loss 1.924380, percent error 34.40\n",
            "Epoch    85, train loss 0.001715, train error 0.00,  val loss 1.925260, percent error 34.40\n",
            "Epoch    86, train loss 0.001709, train error 0.00,  val loss 1.925809, percent error 34.40\n",
            "Epoch    87, train loss 0.001703, train error 0.00,  val loss 1.927022, percent error 34.40\n",
            "Epoch    88, train loss 0.001697, train error 0.00,  val loss 1.927624, percent error 34.40\n",
            "Epoch    89, train loss 0.001690, train error 0.00,  val loss 1.928723, percent error 34.40\n",
            "Epoch    90, train loss 0.001684, train error 0.00,  val loss 1.929360, percent error 34.40\n",
            "Epoch    91, train loss 0.001678, train error 0.00,  val loss 1.930401, percent error 34.40\n",
            "Epoch    92, train loss 0.001672, train error 0.00,  val loss 1.931264, percent error 34.40\n",
            "Epoch    93, train loss 0.001666, train error 0.00,  val loss 1.932070, percent error 34.40\n",
            "Epoch    94, train loss 0.001661, train error 0.00,  val loss 1.933053, percent error 34.40\n",
            "Epoch    95, train loss 0.001655, train error 0.00,  val loss 1.933915, percent error 34.40\n",
            "Epoch    96, train loss 0.001649, train error 0.00,  val loss 1.934508, percent error 34.40\n",
            "Epoch    97, train loss 0.001643, train error 0.00,  val loss 1.935250, percent error 34.40\n",
            "Epoch    98, train loss 0.001638, train error 0.00,  val loss 1.936431, percent error 34.40\n",
            "Epoch    99, train loss 0.001632, train error 0.00,  val loss 1.937325, percent error 34.40\n"
          ]
        }
      ],
      "source": [
        "#Define the model\n",
        "model = ResidualNetwork(40, 10)\n",
        "\n",
        "# choose cross entropy loss function (equation 5.24 in the loss notes)\n",
        "loss_function = nn.CrossEntropyLoss()\n",
        "# construct SGD optimizer and initialize learning rate and momentum\n",
        "optimizer = torch.optim.SGD(model.parameters(), lr = 0.05, momentum=0.9)\n",
        "# object that decreases learning rate by half every 20 epochs\n",
        "scheduler = StepLR(optimizer, step_size=20, gamma=0.5)\n",
        "# convert data to torch tensors\n",
        "x_train = torch.tensor(train_data_x.transpose().astype('float32'))\n",
        "y_train = torch.tensor(train_data_y.astype('long'))\n",
        "x_val= torch.tensor(val_data_x.transpose().astype('float32'))\n",
        "y_val = torch.tensor(val_data_y.astype('long'))\n",
        "\n",
        "# load the data into a class that creates the batches\n",
        "data_loader = DataLoader(TensorDataset(x_train,y_train), batch_size=100, shuffle=True, worker_init_fn=np.random.seed(1))\n",
        "\n",
        "# Initialize model weights\n",
        "model.apply(weights_init)\n",
        "\n",
        "# loop over the dataset n_epoch times\n",
        "n_epoch = 100\n",
        "# store the loss and the % correct at each epoch\n",
        "losses_train = np.zeros((n_epoch))\n",
        "errors_train = np.zeros((n_epoch))\n",
        "losses_val = np.zeros((n_epoch))\n",
        "errors_val = np.zeros((n_epoch))\n",
        "\n",
        "for epoch in range(n_epoch):\n",
        "  # loop over batches\n",
        "  for i, data in enumerate(data_loader):\n",
        "    # retrieve inputs and labels for this batch\n",
        "    x_batch, y_batch = data\n",
        "    # zero the parameter gradients\n",
        "    optimizer.zero_grad()\n",
        "    # forward pass -- calculate model output\n",
        "    pred = model(x_batch)\n",
        "    # compute the loss\n",
        "    loss = loss_function(pred, y_batch)\n",
        "    # backward pass\n",
        "    loss.backward()\n",
        "    # SGD update\n",
        "    optimizer.step()\n",
        "\n",
        "  # Run whole dataset to get statistics -- normally wouldn't do this\n",
        "  pred_train = model(x_train)\n",
        "  pred_val = model(x_val)\n",
        "  _, predicted_train_class = torch.max(pred_train.data, 1)\n",
        "  _, predicted_val_class = torch.max(pred_val.data, 1)\n",
        "  errors_train[epoch] = 100 - 100 * (predicted_train_class == y_train).float().sum() / len(y_train)\n",
        "  errors_val[epoch]= 100 - 100 * (predicted_val_class == y_val).float().sum() / len(y_val)\n",
        "  losses_train[epoch] = loss_function(pred_train, y_train).item()\n",
        "  losses_val[epoch]= loss_function(pred_val, y_val).item()\n",
        "  print(f'Epoch {epoch:5d}, train loss {losses_train[epoch]:.6f}, train error {errors_train[epoch]:3.2f},  val loss {losses_val[epoch]:.6f}, percent error {errors_val[epoch]:3.2f}')\n",
        "\n",
        "  # tell scheduler to consider updating learning rate\n",
        "  scheduler.step()"
      ]
    },
    {
      "cell_type": "code",
      "execution_count": 198,
      "metadata": {
        "id": "CcP_VyEmE2sv"
      },
      "outputs": [
        {
          "data": {
            "image/png": "[encoded data removed]",
            "text/plain": [
              "<Figure size 640x480 with 1 Axes>"
            ]
          },
          "metadata": {},
          "output_type": "display_data"
        }
      ],
      "source": [
        "# Plot the results\n",
        "fig, ax = plt.subplots()\n",
        "ax.plot(errors_train,'r-',label='train')\n",
        "ax.plot(errors_val,'b-',label='test')\n",
        "ax.set_ylim(0,100); ax.set_xlim(0,n_epoch)\n",
        "ax.set_xlabel('Epoch'); ax.set_ylabel('Error')\n",
        "ax.set_title('TrainError %3.2f, Val Error %3.2f'%(errors_train[-1],errors_val[-1]))\n",
        "ax.legend()\n",
        "plt.show()"
      ]
    },
    {
      "cell_type": "markdown",
      "metadata": {
        "id": "wMmqhmxuAx0M"
      },
      "source": [
        "The primary motivation of residual networks is to allow training of much deeper networks.   \n",
        "\n",
        "TODO: Try running this network with and without the residual connections.  Does adding the residual connections change the performance?"
      ]
    },
    {
      "cell_type": "markdown",
      "metadata": {},
      "source": [
        "## Answer\n",
        "\n",
        "Performance with 4 linear layers is slightly worse than 4 residual layers."
      ]
    }
  ],
  "metadata": {
    "colab": {
      "authorship_tag": "ABX9TyMXS3SPB4cS/4qxix0lH/Hq",
      "include_colab_link": true,
      "provenance": []
    },
    "kernelspec": {
      "display_name": "Python 3",
      "name": "python3"
    },
    "language_info": {
      "codemirror_mode": {
        "name": "ipython",
        "version": 3
      },
      "file_extension": ".py",
      "mimetype": "text/x-python",
      "name": "python",
      "nbconvert_exporter": "python",
      "pygments_lexer": "ipython3",
      "version": "3.11.7"
    }
  },
  "nbformat": 4,
  "nbformat_minor": 0
}
