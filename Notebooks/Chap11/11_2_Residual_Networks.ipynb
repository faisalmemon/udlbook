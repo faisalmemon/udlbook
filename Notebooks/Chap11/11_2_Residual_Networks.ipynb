{
  "cells": [
    {
      "cell_type": "markdown",
      "metadata": {
        "colab_type": "text",
        "id": "view-in-github"
      },
      "source": [
        "<a href=\"https://colab.research.google.com/github/udlbook/udlbook/blob/main/Notebooks/Chap11/11_2_Residual_Networks.ipynb\" target=\"_parent\"><img src=\"https://colab.research.google.com/assets/colab-badge.svg\" alt=\"Open In Colab\"/></a>"
      ]
    },
    {
      "cell_type": "markdown",
      "metadata": {
        "id": "t9vk9Elugvmi"
      },
      "source": [
        "# **Notebook 11.2: Residual Networks**\n",
        "\n",
        "This notebook adapts the networks for MNIST1D to use residual connections.\n",
        "\n",
        "Work through the cells below, running each cell in turn. In various places you will see the words \"TO DO\". Follow the instructions at these places and make predictions about what is going to happen or write code to complete the functions.\n",
        "\n",
        "Contact me at udlbookmail@gmail.com if you find any mistakes or have any suggestions.\n",
        "\n"
      ]
    },
    {
      "cell_type": "code",
      "execution_count": 99,
      "metadata": {
        "id": "D5yLObtZCi9J"
      },
      "outputs": [
        {
          "name": "stdout",
          "output_type": "stream",
          "text": [
            "12821.65s - pydevd: Sending message related to process being replaced timed-out after 5 seconds\n",
            "fatal: destination path 'mnist1d' already exists and is not an empty directory.\n"
          ]
        }
      ],
      "source": [
        "# Run this if you're in a Colab to make a local copy of the MNIST 1D repository\n",
        "!git clone https://github.com/greydanus/mnist1d"
      ]
    },
    {
      "cell_type": "code",
      "execution_count": 100,
      "metadata": {
        "id": "YrXWAH7sUWvU"
      },
      "outputs": [],
      "source": [
        "import numpy as np\n",
        "import os\n",
        "import torch, torch.nn as nn\n",
        "from torch.utils.data import TensorDataset, DataLoader\n",
        "from torch.optim.lr_scheduler import StepLR\n",
        "import matplotlib.pyplot as plt\n",
        "import mnist1d\n",
        "import random"
      ]
    },
    {
      "cell_type": "code",
      "execution_count": 101,
      "metadata": {
        "id": "twI72ZCrCt5z"
      },
      "outputs": [
        {
          "name": "stdout",
          "output_type": "stream",
          "text": [
            "Successfully loaded data from ./mnist1d_data.pkl\n",
            "Examples in training set: 4000\n",
            "Examples in test set: 1000\n",
            "Length of each example: 40\n"
          ]
        }
      ],
      "source": [
        "args = mnist1d.data.get_dataset_args()\n",
        "data = mnist1d.data.get_dataset(args, path='./mnist1d_data.pkl', download=False, regenerate=False)\n",
        "\n",
        "# The training and test input and outputs are in\n",
        "# data['x'], data['y'], data['x_test'], and data['y_test']\n",
        "print(\"Examples in training set: {}\".format(len(data['y'])))\n",
        "print(\"Examples in test set: {}\".format(len(data['y_test'])))\n",
        "print(\"Length of each example: {}\".format(data['x'].shape[-1]))"
      ]
    },
    {
      "cell_type": "code",
      "execution_count": 102,
      "metadata": {
        "id": "8bKADvLHbiV5"
      },
      "outputs": [
        {
          "name": "stdout",
          "output_type": "stream",
          "text": [
            "Train data: 4000 examples (columns), each of which has 40 dimensions (rows)\n",
            "Validation data: 1000 examples (columns), each of which has 40 dimensions (rows)\n"
          ]
        }
      ],
      "source": [
        "# Load in the data\n",
        "train_data_x = data['x'].transpose()\n",
        "train_data_y = data['y']\n",
        "val_data_x = data['x_test'].transpose()\n",
        "val_data_y = data['y_test']\n",
        "# Print out sizes\n",
        "print(\"Train data: %d examples (columns), each of which has %d dimensions (rows)\"%((train_data_x.shape[1],train_data_x.shape[0])))\n",
        "print(\"Validation data: %d examples (columns), each of which has %d dimensions (rows)\"%((val_data_x.shape[1],val_data_x.shape[0])))"
      ]
    },
    {
      "cell_type": "markdown",
      "metadata": {
        "id": "_sFvRDGrl4qe"
      },
      "source": [
        "Define the network"
      ]
    },
    {
      "cell_type": "code",
      "execution_count": 103,
      "metadata": {
        "id": "FslroPJJffrh"
      },
      "outputs": [],
      "source": [
        "# There are 40 input dimensions and 10 output dimensions for this data\n",
        "# The inputs correspond to the 40 offsets in the MNIST1D template.\n",
        "D_i = 40\n",
        "# The outputs correspond to the 10 digits\n",
        "D_o = 10\n",
        "\n",
        "\n",
        "# We will adapt this model to have residual connections around the linear layers\n",
        "# This is the same model we used in practical 8.1, but we can't use the sequential\n",
        "# class for residual networks (which aren't strictly sequential).  Hence, I've rewritten\n",
        "# it as a model that inherits from a base class\n",
        "\n",
        "class ResidualNetwork(torch.nn.Module):\n",
        "  def __init__(self, input_size, output_size, hidden_size=100):\n",
        "    super(ResidualNetwork, self).__init__()\n",
        "    self.linear1 = nn.Linear(input_size, hidden_size)\n",
        "    self.linear2 = nn.Linear(hidden_size, hidden_size)\n",
        "    self.linear3 = nn.Linear(hidden_size, hidden_size)\n",
        "    self.linear4 = nn.Linear(hidden_size, output_size)\n",
        "    print(\"Initialized MLPBase model with {} parameters\".format(self.count_params()))\n",
        "\n",
        "  def count_params(self):\n",
        "    return sum([p.view(-1).shape[0] for p in self.parameters()])\n",
        "\n",
        "# The order of operations within each block should similar to figure 11.5b\n",
        "# ie., linear1 first, ReLU+linear2 in first residual block, ReLU+linear3 in second residual block), linear4 at end\n",
        "# Replace this function\n",
        "  def forward(self, x):\n",
        "      # 4 layers -> 32.9% performance on test set\n",
        "      f = self.linear1(x)\n",
        "      res1 = f + self.linear2(f.relu())\n",
        "      res2 = res1 + self.linear3(res1.relu())\n",
        "      return self.linear4(res2)\n",
        "\n",
        "  def myforward(self, x):\n",
        "    h1 = self.linear1(x)\n",
        "    h2 = self.linear2(h1.relu())\n",
        "    h3 = self.linear3(h2.relu())\n",
        "\n",
        "    return self.linear4(h1 + h2 + h3)\n",
        "  \n",
        "  def prince_forward(self, x):\n",
        "    print_variance(\"Input\",x)\n",
        "    f = self.linear1(x)\n",
        "    print_variance(\"First preactivation\",f)\n",
        "    res1 = f+ self.linear2(f.relu())\n",
        "    print_variance(\"After first residual connection\",res1)\n",
        "    res2 = res1 + self.linear3(res1.relu())\n",
        "    print_variance(\"After second residual connection\",res2)\n",
        "    res3 = res2 + self.linear4(res2.relu())\n",
        "    print_variance(\"After third residual connection\",res3)\n",
        "    res4 = res3 + self.linear5(res3.relu())\n",
        "    print_variance(\"After fourth residual connection\",res4)\n",
        "    res5 = res4 + self.linear6(res4.relu())\n",
        "    print_variance(\"After fifth residual connection\",res5)\n",
        "    return self.linear7(res5)\n",
        "  \n",
        "  def gemini2_forward(self, x):\n",
        "    h1 = self.linear1(x)\n",
        "    h1 = h1.relu()\n",
        "\n",
        "    h2 = self.linear2(h1)\n",
        "    h2 = h2.relu()\n",
        "\n",
        "    h3 = self.linear3(h2)\n",
        "    h3 = h3.relu()\n",
        "\n",
        "    return self.linear4(h1 + h2 + h3)\n",
        "  \n",
        "  def suggestedGeminiForward(self, x):\n",
        "    h1 = self.linear1(x) + x\n",
        "    h1 = h1.relu()\n",
        "\n",
        "    h2 = self.linear2(h1) + h1\n",
        "    h2 = h2.relu()\n",
        "\n",
        "    h3 = self.linear3(h2) + h2\n",
        "    h3 = h3.relu()\n",
        "\n",
        "    return self.linear4(h3)\n"
      ]
    },
    {
      "cell_type": "code",
      "execution_count": 104,
      "metadata": {
        "id": "YgLaex1pfhqz"
      },
      "outputs": [],
      "source": [
        "# He initialization of weights\n",
        "def weights_init(layer_in):\n",
        "  if isinstance(layer_in, nn.Linear):\n",
        "    nn.init.kaiming_uniform_(layer_in.weight)\n",
        "    layer_in.bias.data.fill_(0.0)"
      ]
    },
    {
      "cell_type": "code",
      "execution_count": 107,
      "metadata": {
        "id": "NYw8I_3mmX5c"
      },
      "outputs": [
        {
          "name": "stdout",
          "output_type": "stream",
          "text": [
            "Initialized MLPBase model with 25310 parameters\n",
            "tensor([[-0.3320, -0.4719, -0.7787,  ..., -0.7167, -0.9620, -0.8902],\n",
            "        [ 1.9655,  2.3002,  2.2134,  ..., -1.6875, -1.4264, -1.3642],\n",
            "        [-0.0193,  0.0786,  0.6249,  ..., -1.0856, -1.7981, -2.3153],\n",
            "        ...,\n",
            "        [-1.6945, -1.2806, -0.6513,  ..., -0.7237, -0.3827, -0.0317],\n",
            "        [ 0.9965,  0.8084,  0.1553,  ..., -0.3029, -0.2856, -0.1184],\n",
            "        [-0.6940, -0.2753,  0.2927,  ..., -1.2162, -1.4649, -1.6510]])\n",
            "tensor([2, 6, 4,  ..., 5, 4, 8])\n",
            "torch.Size([4000])\n",
            "torch.Size([4000, 40])\n",
            "torch.Size([1000, 40])\n",
            "tensor([[-0.0788, -0.2107, -0.0918,  ...,  1.1342,  0.8463,  0.3461],\n",
            "        [ 0.4710,  0.7311,  0.7837,  ..., -0.4625, -0.1845,  0.0968],\n",
            "        [ 1.7739,  1.2690,  1.3767,  ..., -0.7002, -0.1029,  0.0740],\n",
            "        ...,\n",
            "        [-0.6092, -0.1108,  0.2681,  ..., -0.0785, -0.1429,  0.0278],\n",
            "        [-0.9666, -0.0356,  0.5749,  ..., -1.2560, -2.1293, -2.7991],\n",
            "        [-0.5193, -0.6987, -1.2810,  ...,  0.6599,  0.8777,  1.1932]])\n",
            "Epoch     0, train loss 1.645638, train error 63.05,  val loss 1.739647, percent error 64.10\n",
            "Epoch     1, train loss 1.199543, train error 46.45,  val loss 1.318802, percent error 51.50\n",
            "Epoch     2, train loss 1.012121, train error 37.60,  val loss 1.180865, percent error 44.70\n",
            "Epoch     3, train loss 0.917661, train error 33.88,  val loss 1.130007, percent error 45.60\n",
            "Epoch     4, train loss 0.799430, train error 30.18,  val loss 1.065818, percent error 42.00\n",
            "Epoch     5, train loss 0.735549, train error 27.78,  val loss 1.082523, percent error 41.30\n",
            "Epoch     6, train loss 0.682360, train error 25.75,  val loss 1.102436, percent error 40.90\n",
            "Epoch     7, train loss 0.572754, train error 21.15,  val loss 1.063881, percent error 38.60\n",
            "Epoch     8, train loss 0.590520, train error 22.95,  val loss 1.210224, percent error 40.40\n",
            "Epoch     9, train loss 0.478338, train error 17.72,  val loss 1.072480, percent error 37.00\n",
            "Epoch    10, train loss 0.447759, train error 17.00,  val loss 1.256201, percent error 39.60\n",
            "Epoch    11, train loss 0.377014, train error 13.93,  val loss 1.149500, percent error 36.70\n",
            "Epoch    12, train loss 0.470756, train error 16.93,  val loss 1.366750, percent error 39.80\n",
            "Epoch    13, train loss 0.398858, train error 14.75,  val loss 1.314469, percent error 37.00\n",
            "Epoch    14, train loss 0.421542, train error 14.88,  val loss 1.263812, percent error 35.30\n",
            "Epoch    15, train loss 0.328019, train error 12.15,  val loss 1.401943, percent error 36.60\n",
            "Epoch    16, train loss 0.416557, train error 14.57,  val loss 1.444459, percent error 40.70\n",
            "Epoch    17, train loss 0.405078, train error 13.65,  val loss 1.549138, percent error 37.40\n",
            "Epoch    18, train loss 0.332165, train error 11.93,  val loss 1.506342, percent error 37.50\n",
            "Epoch    19, train loss 0.240467, train error 8.43,  val loss 1.476319, percent error 35.50\n",
            "Epoch    20, train loss 0.077223, train error 2.03,  val loss 1.221968, percent error 32.80\n",
            "Epoch    21, train loss 0.033146, train error 0.30,  val loss 1.158978, percent error 30.70\n",
            "Epoch    22, train loss 0.019328, train error 0.05,  val loss 1.195901, percent error 31.80\n",
            "Epoch    23, train loss 0.013764, train error 0.00,  val loss 1.201636, percent error 30.70\n",
            "Epoch    24, train loss 0.011071, train error 0.00,  val loss 1.227433, percent error 30.70\n",
            "Epoch    25, train loss 0.009344, train error 0.00,  val loss 1.251635, percent error 31.00\n",
            "Epoch    26, train loss 0.008137, train error 0.00,  val loss 1.267799, percent error 31.30\n",
            "Epoch    27, train loss 0.007365, train error 0.00,  val loss 1.290052, percent error 31.10\n",
            "Epoch    28, train loss 0.006629, train error 0.00,  val loss 1.299896, percent error 31.60\n",
            "Epoch    29, train loss 0.005958, train error 0.00,  val loss 1.316882, percent error 31.30\n",
            "Epoch    30, train loss 0.005461, train error 0.00,  val loss 1.331352, percent error 31.70\n",
            "Epoch    31, train loss 0.005060, train error 0.00,  val loss 1.343023, percent error 31.70\n",
            "Epoch    32, train loss 0.004697, train error 0.00,  val loss 1.356332, percent error 31.50\n",
            "Epoch    33, train loss 0.004387, train error 0.00,  val loss 1.364538, percent error 31.20\n",
            "Epoch    34, train loss 0.004114, train error 0.00,  val loss 1.373823, percent error 31.30\n",
            "Epoch    35, train loss 0.003870, train error 0.00,  val loss 1.385724, percent error 31.70\n",
            "Epoch    36, train loss 0.003657, train error 0.00,  val loss 1.395057, percent error 31.60\n",
            "Epoch    37, train loss 0.003459, train error 0.00,  val loss 1.403497, percent error 31.70\n",
            "Epoch    38, train loss 0.003286, train error 0.00,  val loss 1.411755, percent error 31.60\n",
            "Epoch    39, train loss 0.003124, train error 0.00,  val loss 1.419775, percent error 31.60\n",
            "Epoch    40, train loss 0.003049, train error 0.00,  val loss 1.424298, percent error 31.80\n",
            "Epoch    41, train loss 0.002978, train error 0.00,  val loss 1.427928, percent error 31.80\n",
            "Epoch    42, train loss 0.002913, train error 0.00,  val loss 1.431133, percent error 31.70\n",
            "Epoch    43, train loss 0.002852, train error 0.00,  val loss 1.435371, percent error 31.80\n",
            "Epoch    44, train loss 0.002788, train error 0.00,  val loss 1.438344, percent error 31.70\n",
            "Epoch    45, train loss 0.002731, train error 0.00,  val loss 1.441927, percent error 31.70\n",
            "Epoch    46, train loss 0.002675, train error 0.00,  val loss 1.445843, percent error 31.60\n",
            "Epoch    47, train loss 0.002620, train error 0.00,  val loss 1.449689, percent error 31.70\n",
            "Epoch    48, train loss 0.002569, train error 0.00,  val loss 1.452966, percent error 31.40\n",
            "Epoch    49, train loss 0.002520, train error 0.00,  val loss 1.455861, percent error 31.40\n",
            "Epoch    50, train loss 0.002471, train error 0.00,  val loss 1.458730, percent error 31.50\n",
            "Epoch    51, train loss 0.002425, train error 0.00,  val loss 1.462638, percent error 31.50\n",
            "Epoch    52, train loss 0.002380, train error 0.00,  val loss 1.465169, percent error 31.50\n",
            "Epoch    53, train loss 0.002337, train error 0.00,  val loss 1.468070, percent error 31.40\n",
            "Epoch    54, train loss 0.002295, train error 0.00,  val loss 1.470570, percent error 31.40\n",
            "Epoch    55, train loss 0.002256, train error 0.00,  val loss 1.474408, percent error 31.40\n",
            "Epoch    56, train loss 0.002215, train error 0.00,  val loss 1.477188, percent error 31.40\n",
            "Epoch    57, train loss 0.002177, train error 0.00,  val loss 1.479161, percent error 31.30\n",
            "Epoch    58, train loss 0.002141, train error 0.00,  val loss 1.482799, percent error 31.30\n",
            "Epoch    59, train loss 0.002105, train error 0.00,  val loss 1.486068, percent error 31.20\n",
            "Epoch    60, train loss 0.002088, train error 0.00,  val loss 1.486697, percent error 31.30\n",
            "Epoch    61, train loss 0.002070, train error 0.00,  val loss 1.488262, percent error 31.30\n",
            "Epoch    62, train loss 0.002054, train error 0.00,  val loss 1.489958, percent error 31.30\n",
            "Epoch    63, train loss 0.002037, train error 0.00,  val loss 1.491567, percent error 31.30\n",
            "Epoch    64, train loss 0.002021, train error 0.00,  val loss 1.492490, percent error 31.30\n",
            "Epoch    65, train loss 0.002005, train error 0.00,  val loss 1.494257, percent error 31.20\n",
            "Epoch    66, train loss 0.001989, train error 0.00,  val loss 1.494907, percent error 31.20\n",
            "Epoch    67, train loss 0.001974, train error 0.00,  val loss 1.496728, percent error 31.20\n",
            "Epoch    68, train loss 0.001958, train error 0.00,  val loss 1.497699, percent error 31.20\n",
            "Epoch    69, train loss 0.001944, train error 0.00,  val loss 1.498967, percent error 31.20\n",
            "Epoch    70, train loss 0.001928, train error 0.00,  val loss 1.500246, percent error 31.40\n",
            "Epoch    71, train loss 0.001914, train error 0.00,  val loss 1.501400, percent error 31.40\n",
            "Epoch    72, train loss 0.001900, train error 0.00,  val loss 1.502606, percent error 31.30\n",
            "Epoch    73, train loss 0.001885, train error 0.00,  val loss 1.504445, percent error 31.20\n",
            "Epoch    74, train loss 0.001871, train error 0.00,  val loss 1.505680, percent error 31.40\n",
            "Epoch    75, train loss 0.001857, train error 0.00,  val loss 1.506649, percent error 31.30\n",
            "Epoch    76, train loss 0.001844, train error 0.00,  val loss 1.507826, percent error 31.40\n",
            "Epoch    77, train loss 0.001830, train error 0.00,  val loss 1.509368, percent error 31.40\n",
            "Epoch    78, train loss 0.001817, train error 0.00,  val loss 1.510515, percent error 31.30\n",
            "Epoch    79, train loss 0.001804, train error 0.00,  val loss 1.511486, percent error 31.20\n",
            "Epoch    80, train loss 0.001797, train error 0.00,  val loss 1.512137, percent error 31.20\n",
            "Epoch    81, train loss 0.001791, train error 0.00,  val loss 1.512751, percent error 31.20\n",
            "Epoch    82, train loss 0.001785, train error 0.00,  val loss 1.513493, percent error 31.20\n",
            "Epoch    83, train loss 0.001778, train error 0.00,  val loss 1.514044, percent error 31.20\n",
            "Epoch    84, train loss 0.001772, train error 0.00,  val loss 1.514702, percent error 31.20\n",
            "Epoch    85, train loss 0.001766, train error 0.00,  val loss 1.515364, percent error 31.20\n",
            "Epoch    86, train loss 0.001760, train error 0.00,  val loss 1.515957, percent error 31.20\n",
            "Epoch    87, train loss 0.001753, train error 0.00,  val loss 1.516391, percent error 31.20\n",
            "Epoch    88, train loss 0.001747, train error 0.00,  val loss 1.516936, percent error 31.20\n",
            "Epoch    89, train loss 0.001741, train error 0.00,  val loss 1.517730, percent error 31.10\n",
            "Epoch    90, train loss 0.001735, train error 0.00,  val loss 1.518307, percent error 31.20\n",
            "Epoch    91, train loss 0.001729, train error 0.00,  val loss 1.518902, percent error 31.20\n",
            "Epoch    92, train loss 0.001723, train error 0.00,  val loss 1.519381, percent error 31.20\n",
            "Epoch    93, train loss 0.001717, train error 0.00,  val loss 1.520030, percent error 31.20\n",
            "Epoch    94, train loss 0.001711, train error 0.00,  val loss 1.520779, percent error 31.20\n",
            "Epoch    95, train loss 0.001706, train error 0.00,  val loss 1.521269, percent error 31.20\n",
            "Epoch    96, train loss 0.001700, train error 0.00,  val loss 1.521855, percent error 31.20\n",
            "Epoch    97, train loss 0.001694, train error 0.00,  val loss 1.522379, percent error 31.20\n",
            "Epoch    98, train loss 0.001688, train error 0.00,  val loss 1.522929, percent error 31.20\n",
            "Epoch    99, train loss 0.001682, train error 0.00,  val loss 1.523624, percent error 31.20\n"
          ]
        }
      ],
      "source": [
        "#Define the model\n",
        "model = ResidualNetwork(40, 10)\n",
        "\n",
        "# choose cross entropy loss function (equation 5.24 in the loss notes)\n",
        "loss_function = nn.CrossEntropyLoss()\n",
        "# construct SGD optimizer and initialize learning rate and momentum\n",
        "optimizer = torch.optim.SGD(model.parameters(), lr = 0.05, momentum=0.9)\n",
        "# object that decreases learning rate by half every 20 epochs\n",
        "scheduler = StepLR(optimizer, step_size=20, gamma=0.5)\n",
        "# convert data to torch tensors\n",
        "x_train = torch.tensor(train_data_x.transpose().astype('float32'))\n",
        "y_train = torch.tensor(train_data_y.astype('long'))\n",
        "x_val= torch.tensor(val_data_x.transpose().astype('float32'))\n",
        "y_val = torch.tensor(val_data_y.astype('long'))\n",
        "\n",
        "# load the data into a class that creates the batches\n",
        "data_loader = DataLoader(TensorDataset(x_train,y_train), batch_size=100, shuffle=True, worker_init_fn=np.random.seed(1))\n",
        "\n",
        "# Initialize model weights\n",
        "model.apply(weights_init)\n",
        "\n",
        "# loop over the dataset n_epoch times\n",
        "n_epoch = 100\n",
        "# store the loss and the % correct at each epoch\n",
        "losses_train = np.zeros((n_epoch))\n",
        "errors_train = np.zeros((n_epoch))\n",
        "losses_val = np.zeros((n_epoch))\n",
        "errors_val = np.zeros((n_epoch))\n",
        "\n",
        "for epoch in range(n_epoch):\n",
        "  # loop over batches\n",
        "  for i, data in enumerate(data_loader):\n",
        "    # retrieve inputs and labels for this batch\n",
        "    x_batch, y_batch = data\n",
        "    # zero the parameter gradients\n",
        "    optimizer.zero_grad()\n",
        "    # forward pass -- calculate model output\n",
        "    pred = model(x_batch)\n",
        "    # compute the loss\n",
        "    loss = loss_function(pred, y_batch)\n",
        "    # backward pass\n",
        "    loss.backward()\n",
        "    # SGD update\n",
        "    optimizer.step()\n",
        "\n",
        "  # Run whole dataset to get statistics -- normally wouldn't do this\n",
        "  pred_train = model(x_train)\n",
        "  pred_val = model(x_val)\n",
        "  _, predicted_train_class = torch.max(pred_train.data, 1)\n",
        "  _, predicted_val_class = torch.max(pred_val.data, 1)\n",
        "  errors_train[epoch] = 100 - 100 * (predicted_train_class == y_train).float().sum() / len(y_train)\n",
        "  errors_val[epoch]= 100 - 100 * (predicted_val_class == y_val).float().sum() / len(y_val)\n",
        "  losses_train[epoch] = loss_function(pred_train, y_train).item()\n",
        "  losses_val[epoch]= loss_function(pred_val, y_val).item()\n",
        "  print(f'Epoch {epoch:5d}, train loss {losses_train[epoch]:.6f}, train error {errors_train[epoch]:3.2f},  val loss {losses_val[epoch]:.6f}, percent error {errors_val[epoch]:3.2f}')\n",
        "\n",
        "  # tell scheduler to consider updating learning rate\n",
        "  scheduler.step()"
      ]
    },
    {
      "cell_type": "code",
      "execution_count": 106,
      "metadata": {
        "id": "CcP_VyEmE2sv"
      },
      "outputs": [
        {
          "data": {
            "image/png": "[encoded data removed]",
            "text/plain": [
              "<Figure size 640x480 with 1 Axes>"
            ]
          },
          "metadata": {},
          "output_type": "display_data"
        }
      ],
      "source": [
        "# Plot the results\n",
        "fig, ax = plt.subplots()\n",
        "ax.plot(errors_train,'r-',label='train')\n",
        "ax.plot(errors_val,'b-',label='test')\n",
        "ax.set_ylim(0,100); ax.set_xlim(0,n_epoch)\n",
        "ax.set_xlabel('Epoch'); ax.set_ylabel('Error')\n",
        "ax.set_title('TrainError %3.2f, Val Error %3.2f'%(errors_train[-1],errors_val[-1]))\n",
        "ax.legend()\n",
        "plt.show()"
      ]
    },
    {
      "cell_type": "markdown",
      "metadata": {
        "id": "wMmqhmxuAx0M"
      },
      "source": [
        "The primary motivation of residual networks is to allow training of much deeper networks.   \n",
        "\n",
        "TODO: Try running this network with and without the residual connections.  Does adding the residual connections change the performance?"
      ]
    }
  ],
  "metadata": {
    "colab": {
      "authorship_tag": "ABX9TyMXS3SPB4cS/4qxix0lH/Hq",
      "include_colab_link": true,
      "provenance": []
    },
    "kernelspec": {
      "display_name": "Python 3",
      "name": "python3"
    },
    "language_info": {
      "codemirror_mode": {
        "name": "ipython",
        "version": 3
      },
      "file_extension": ".py",
      "mimetype": "text/x-python",
      "name": "python",
      "nbconvert_exporter": "python",
      "pygments_lexer": "ipython3",
      "version": "3.11.7"
    }
  },
  "nbformat": 4,
  "nbformat_minor": 0
}
